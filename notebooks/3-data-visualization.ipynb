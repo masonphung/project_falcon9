{
 "cells": [
  {
   "cell_type": "markdown",
   "metadata": {},
   "source": [
    "# **SpaceX Falcon9 launch prediction project** \n",
    "### **<span style=\"color:#ff9933\">Part 3: Data Visualization</span>** \n",
    "**Mason Phung**   \n",
    "Last edited: December 2024"
   ]
  },
  {
   "cell_type": "markdown",
   "metadata": {},
   "source": [
    "*Space Exploration Technologies Corp. or SpaceX is an American spacecraft manufacturer, popular for their successful mission in sending a spacecraft and astronauts to the International Space Station. They are also well-known for their [VTVL](https://en.wikipedia.org/wiki/VTVL) rocket launches , in which rockets can land and be resued, thus save a huge amount of launching cost for the company.*\n",
    "\n",
    "*One of SpaceX's most popular rocket - the Falcon 9, have landed and reflown [more than 200 times](https://en.wikipedia.org/wiki/List_of_Falcon_9_and_Falcon_Heavy_launches) . The rocket was advertised on its website with a launch cost of 62 million dollars; other providers cost upward of 165 million dollars each, much of the savings is because SpaceX can reuse the first stage. Therefore if we can determine if the first stage will land, we can determine the cost of a launch.*\n",
    "\n",
    "*We are working at a business in the aerospace industry who are developing a space rocket and are researching different rocket technologies and their competitiors.*\n",
    "\n",
    "*In this project, we will collect & analyze past launches data of the Falcon 9 rockets then try to predict the outcome of future launches using different Machine Learning models. The main purpose is to find which factor contributes to the success of each flight and to build a Machine Learning model that can predict the outcome of a rocket launch.*"
   ]
  },
  {
   "cell_type": "markdown",
   "metadata": {},
   "source": [
    "**Questions**\n",
    "1. What are the important features that contributes to the success of each launch?\n",
    "2. Does geography play an essential role in the success of each launch?\n",
    "3. What can be suggested to improve to increase the successful rate?\n",
    "4. What can be suggested to improve the reliability of the predicting model?"
   ]
  },
  {
   "cell_type": "markdown",
   "metadata": {},
   "source": [
    "# **<span style=\"color:#ff9933\">Process description</span>**"
   ]
  },
  {
   "cell_type": "markdown",
   "metadata": {},
   "source": [
    "**Part 1: Data collection by requesting API and web scrapping**\n",
    "- Request data from SpaceX API using `requests` and webscrape from wikipedia using `BeautifulSoup`\n",
    "- Clean & format data after collecting\n",
    "\n",
    "**Part 2: Descriptive analysis using:**\n",
    "- Make Python & SQL queries to explore the datasets\n",
    "- Setting up a local SQL database(server)\n",
    "\n",
    "<span style=\"color:#ff9933\">\n",
    "\n",
    "**Part 3: Visualization:**\n",
    "- Plotting with `matplotlib` and `seaborn`   \n",
    "- Geographical visualization with `folium`   \n",
    "- Build an Interactive dashboard with `dash` and `plotly.express` (in a separate dash app)\n",
    "\n",
    "</span>\n",
    "\n",
    "**Part 4: Machine Learning with `sklearn` (Classification):**\n",
    "- Apply different techniques to enhance models' accuracy & correctness including:\n",
    "    - Select features based on correlation strength + multicollinearity\n",
    "    - Features engineering: convert categorical non-numerical data into numerical format\n",
    "    - Train/test split with stratification to ensure data balance\n",
    "    - Normalize data to ensure the variables have a standard scale\n",
    "- Models: Logistic Regression, Support Vector Machine, Decision Trees, K nearest neighbors, XGBoost, Neural Networks\n",
    "- After applying default models, conduct hyperparamter tuning with `GridSearchCV` to improve the models' performances\n",
    "\n",
    "**Part 5: Discussion**\n",
    "- Notable observations gained when anaylyze data\n",
    "- The performance of the Machine Learning (ML) models\n",
    "- The cons of the project and the dataset\n",
    "- Improvements & suggestion"
   ]
  },
  {
   "cell_type": "markdown",
   "metadata": {},
   "source": [
    "----\n"
   ]
  },
  {
   "cell_type": "markdown",
   "metadata": {},
   "source": [
    "# **<span style=\"color:#ff9933\">Libraries</span>**\n"
   ]
  },
  {
   "cell_type": "code",
   "execution_count": null,
   "metadata": {},
   "outputs": [],
   "source": [
    "# Basics & cores for our work + data manipulation\n",
    "import pandas as pd\n",
    "import numpy as np\n",
    "\n",
    "# Data visualization\n",
    "import matplotlib.pyplot as plt\n",
    "import seaborn as sns\n",
    "import plotly.express as px\n",
    "import folium\n",
    "from folium.plugins import MarkerCluster\n",
    "from folium.plugins import MousePosition\n",
    "from folium.features import DivIcon\n",
    "\n",
    "\n",
    "# Suppress warnings\n",
    "import warnings\n",
    "warnings.filterwarnings(\"ignore\")\n",
    "\n",
    "# Print all collumns of a dataframe\n",
    "pd.set_option('display.max_columns', None)\n",
    "# Print all of the data in a feature\n",
    "pd.set_option('display.max_colwidth', None)\n"
   ]
  },
  {
   "cell_type": "code",
   "execution_count": null,
   "metadata": {},
   "outputs": [],
   "source": [
    "# utils\n",
    "import sys\n",
    "from pathlib import Path\n",
    "\n",
    "# Add the src directory to the system path\n",
    "src_path = Path(\"../src\").resolve()\n",
    "if str(src_path) not in sys.path:\n",
    "    sys.path.append(str(src_path))\n",
    "    \n",
    "from src import mysql_init, utils\n",
    "import src.utils\n"
   ]
  },
  {
   "cell_type": "code",
   "execution_count": null,
   "metadata": {},
   "outputs": [],
   "source": [
    "# Import data\n",
    "falcon9_general=pd.read_csv(\"dataset/Falcon9_general.csv\")\n",
    "falcon9_technical=pd.read_csv(\"dataset/Falcon9_technical.csv\")"
   ]
  },
  {
   "cell_type": "markdown",
   "metadata": {},
   "source": [
    "# <span style=\"color:#ff9933\">**Part 3. Data visualization**</span>"
   ]
  },
  {
   "cell_type": "markdown",
   "metadata": {},
   "source": [
    "- We will use `matplotlib` and `seaborn` to plot & analyze the relationship between different variables in the `falcon9_technical` dataset.\n",
    "- Then use folium to plot the geographic position of each launch sites as well as adding each site's information into the interactive map."
   ]
  },
  {
   "cell_type": "markdown",
   "metadata": {},
   "source": [
    "## **A. Data visualization with `matplotlib` and `seaborn`**"
   ]
  },
  {
   "cell_type": "markdown",
   "metadata": {},
   "source": [
    "We mainly use plot to observe the relationships between different variables in the dataset"
   ]
  },
  {
   "cell_type": "markdown",
   "metadata": {},
   "source": [
    "### <span style=\"color:#ff9933\">I. The relationship between Flight number and Payload</span>"
   ]
  },
  {
   "cell_type": "markdown",
   "metadata": {},
   "source": [
    "We can plot out the <code>FlightNumber</code> vs. <code>PayloadMass</code>and overlay the outcome of the launch. We see that as the flight number increases, the first stage is more likely to land successfully. The payload mass is also important; it seems the more massive the payload, the less likely the first stage will return.\n"
   ]
  },
  {
   "cell_type": "code",
   "execution_count": 58,
   "metadata": {},
   "outputs": [
    {
     "data": {
      "image/png": "[encoded data removed]",
      "text/plain": [
       "<Figure size 2558.88x500 with 1 Axes>"
      ]
     },
     "metadata": {},
     "output_type": "display_data"
    }
   ],
   "source": [
    "# Some basic aesthetics preparation for plots\n",
    "plt.style.use(\"dark_background\") # Because I use dark theme for VSC\n",
    "colors = {0: 'magenta', 1:'cyan'}\n",
    "\n",
    "sns.catplot(\n",
    "    data = falcon9_technical, \n",
    "    x = \"FlightNumber\", \n",
    "    y = \"PayloadMass\",\n",
    "    hue = \"Class\",\n",
    "    palette = colors,\n",
    "    aspect = 5\n",
    ")\n",
    "plt.xlabel(\n",
    "    \"Flight Number\",\n",
    "    fontsize=15\n",
    ")\n",
    "plt.ylabel(\n",
    "    \"Payload Mass (kg)\",\n",
    "    fontsize=15\n",
    ")\n",
    "plt.show()"
   ]
  },
  {
   "cell_type": "markdown",
   "metadata": {},
   "source": [
    "- *The bigger the number of the flight, the later the flight is. We can notice that later flights are likely to be more success and there were more attempts to launch with higher payload mass.*\n",
    "- *From flight 78, the success rate is 100%, latest 12 launches were all successful*"
   ]
  },
  {
   "cell_type": "code",
   "execution_count": 59,
   "metadata": {},
   "outputs": [
    {
     "data": {
      "image/png": "[encoded data removed]",
      "text/plain": [
       "<Figure size 640x480 with 1 Axes>"
      ]
     },
     "metadata": {},
     "output_type": "display_data"
    }
   ],
   "source": [
    "# Assuming falcon9_technical is your DataFrame and 'Date' is a column of datetime.date objects\n",
    "def extract_year(date_series):\n",
    "    return date_series.apply(lambda x: x.year)  # Use the .year attribute for datetime.date objects\n",
    "\n",
    "# Now, create a new column in falcon9_technical directly\n",
    "falcon9_technical['Year'] = extract_year(falcon9_technical['Date'])\n",
    "\n",
    "# Calculate average success rate per year\n",
    "df_yearly = falcon9_technical.groupby('Year')['PayloadMass'].mean().reset_index()\n",
    "\n",
    "# Plot\n",
    "sns.lineplot(\n",
    "    data = df_yearly,\n",
    "    x = 'Year',\n",
    "    y = 'PayloadMass'\n",
    ")\n",
    "plt.title('Average Payload mass each year')\n",
    "plt.ylabel('Payload')\n",
    "plt.xlabel('Year')\n",
    "plt.show()"
   ]
  },
  {
   "cell_type": "markdown",
   "metadata": {},
   "source": [
    "- *Note that there is only 1 launch in 2010.*\n",
    "- *There is a trend of increase in average carried payload mass each year.*"
   ]
  },
  {
   "cell_type": "markdown",
   "metadata": {},
   "source": [
    "### <span style=\"color:#ff9933\">II. The relationship between Flight number and Launch site</span>"
   ]
  },
  {
   "cell_type": "code",
   "execution_count": 60,
   "metadata": {},
   "outputs": [
    {
     "data": {
      "image/png": "[encoded data removed]",
      "text/plain": [
       "<Figure size 2558.88x500 with 1 Axes>"
      ]
     },
     "metadata": {},
     "output_type": "display_data"
    }
   ],
   "source": [
    "sns.catplot(\n",
    "    data = falcon9_technical,\n",
    "    x = \"FlightNumber\",\n",
    "    y = \"LaunchSite\",\n",
    "    hue = 'Class',\n",
    "    palette = colors,\n",
    "    aspect = 5\n",
    "),\n",
    "plt.title(\"The relationship between Flight Number and Launch Site\"),\n",
    "plt.xlabel(\n",
    "    \"Flight Number\",\n",
    "    fontsize = 15\n",
    "),\n",
    "plt.ylabel(\n",
    "    \"Launch Site\",\n",
    "    fontsize = 15\n",
    "),\n",
    "plt.show()"
   ]
  },
  {
   "cell_type": "markdown",
   "metadata": {},
   "source": [
    "- *It's visible that `VAFB` was the least used site*\n",
    "- *CCAFS is the site with the most launches and also with the most failed launches*"
   ]
  },
  {
   "cell_type": "markdown",
   "metadata": {},
   "source": [
    "### <span style=\"color:#ff9933\">III. The relationship between Payload and Launch site</span>"
   ]
  },
  {
   "cell_type": "code",
   "execution_count": 61,
   "metadata": {},
   "outputs": [
    {
     "data": {
      "image/png": "[encoded data removed]",
      "text/plain": [
       "<Figure size 2558.88x500 with 1 Axes>"
      ]
     },
     "metadata": {},
     "output_type": "display_data"
    }
   ],
   "source": [
    "sns.catplot(\n",
    "    data = falcon9_technical,\n",
    "    x = \"PayloadMass\",\n",
    "    y = \"LaunchSite\",\n",
    "    hue = \"Class\",\n",
    "    palette = colors,\n",
    "    aspect = 5\n",
    "),\n",
    "plt.title(\"The relationship between Launch sites and Payload mass (kg)\"),\n",
    "plt.xlabel(\n",
    "    \"Payload Mass (kg)\",\n",
    "    fontsize = 15\n",
    "),\n",
    "plt.ylabel(\n",
    "    \"Launch Site\",\n",
    "    fontsize = 15\n",
    "),\n",
    "plt.show()"
   ]
  },
  {
   "cell_type": "markdown",
   "metadata": {},
   "source": [
    "- *For the VAFB-SLC launchsite there are no rockets launched for heavy payload(mass greater than 10000 kg)*.\n",
    "- *KSC LC has a 100% success rate at Payload mass lower than 5500*.\n",
    "- *Success rate for all 3 launch sites from >8000kg payload mass is extremelu high*."
   ]
  },
  {
   "cell_type": "markdown",
   "metadata": {},
   "source": [
    "### <span style=\"color:#ff9933\">IV. The success rate of each orbit type</span>"
   ]
  },
  {
   "cell_type": "code",
   "execution_count": 62,
   "metadata": {},
   "outputs": [
    {
     "data": {
      "text/html": [
       "<div>\n",
       "<style scoped>\n",
       "    .dataframe tbody tr th:only-of-type {\n",
       "        vertical-align: middle;\n",
       "    }\n",
       "\n",
       "    .dataframe tbody tr th {\n",
       "        vertical-align: top;\n",
       "    }\n",
       "\n",
       "    .dataframe thead th {\n",
       "        text-align: right;\n",
       "    }\n",
       "</style>\n",
       "<table border=\"1\" class=\"dataframe\">\n",
       "  <thead>\n",
       "    <tr style=\"text-align: right;\">\n",
       "      <th></th>\n",
       "      <th>Orbit</th>\n",
       "      <th>Average Success Rate</th>\n",
       "      <th>Total Launches</th>\n",
       "    </tr>\n",
       "  </thead>\n",
       "  <tbody>\n",
       "    <tr>\n",
       "      <th>0</th>\n",
       "      <td>ES-L1</td>\n",
       "      <td>100.000000</td>\n",
       "      <td>1</td>\n",
       "    </tr>\n",
       "    <tr>\n",
       "      <th>1</th>\n",
       "      <td>GEO</td>\n",
       "      <td>100.000000</td>\n",
       "      <td>1</td>\n",
       "    </tr>\n",
       "    <tr>\n",
       "      <th>2</th>\n",
       "      <td>HEO</td>\n",
       "      <td>100.000000</td>\n",
       "      <td>1</td>\n",
       "    </tr>\n",
       "    <tr>\n",
       "      <th>3</th>\n",
       "      <td>SSO</td>\n",
       "      <td>100.000000</td>\n",
       "      <td>5</td>\n",
       "    </tr>\n",
       "    <tr>\n",
       "      <th>4</th>\n",
       "      <td>VLEO</td>\n",
       "      <td>85.714286</td>\n",
       "      <td>14</td>\n",
       "    </tr>\n",
       "    <tr>\n",
       "      <th>5</th>\n",
       "      <td>All Orbits</td>\n",
       "      <td>73.112073</td>\n",
       "      <td>90</td>\n",
       "    </tr>\n",
       "    <tr>\n",
       "      <th>6</th>\n",
       "      <td>LEO</td>\n",
       "      <td>71.428571</td>\n",
       "      <td>7</td>\n",
       "    </tr>\n",
       "    <tr>\n",
       "      <th>7</th>\n",
       "      <td>MEO</td>\n",
       "      <td>66.666667</td>\n",
       "      <td>3</td>\n",
       "    </tr>\n",
       "    <tr>\n",
       "      <th>8</th>\n",
       "      <td>PO</td>\n",
       "      <td>66.666667</td>\n",
       "      <td>9</td>\n",
       "    </tr>\n",
       "    <tr>\n",
       "      <th>9</th>\n",
       "      <td>ISS</td>\n",
       "      <td>61.904762</td>\n",
       "      <td>21</td>\n",
       "    </tr>\n",
       "    <tr>\n",
       "      <th>10</th>\n",
       "      <td>GTO</td>\n",
       "      <td>51.851852</td>\n",
       "      <td>27</td>\n",
       "    </tr>\n",
       "    <tr>\n",
       "      <th>11</th>\n",
       "      <td>SO</td>\n",
       "      <td>0.000000</td>\n",
       "      <td>1</td>\n",
       "    </tr>\n",
       "  </tbody>\n",
       "</table>\n",
       "</div>"
      ],
      "text/plain": [
       "         Orbit  Average Success Rate  Total Launches\n",
       "0        ES-L1            100.000000               1\n",
       "1          GEO            100.000000               1\n",
       "2          HEO            100.000000               1\n",
       "3          SSO            100.000000               5\n",
       "4         VLEO             85.714286              14\n",
       "5   All Orbits             73.112073              90\n",
       "6          LEO             71.428571               7\n",
       "7          MEO             66.666667               3\n",
       "8           PO             66.666667               9\n",
       "9          ISS             61.904762              21\n",
       "10         GTO             51.851852              27\n",
       "11          SO              0.000000               1"
      ]
     },
     "execution_count": 62,
     "metadata": {},
     "output_type": "execute_result"
    }
   ],
   "source": [
    "# Calculate success rate average and count of total launches per orbit\n",
    "orbit_success_rate = falcon9_technical.groupby('Orbit')['Class'].agg(['mean', 'count']).reset_index()\n",
    "orbit_success_rate.columns = ['Orbit', 'Average Success Rate', 'Total Launches']\n",
    "orbit_success_rate['Average Success Rate'] *= 100\n",
    "\n",
    "# Add a final row with the total of all launches and the average of the average success rates\n",
    "total_launches = orbit_success_rate['Total Launches'].sum()\n",
    "average_of_averages = orbit_success_rate['Average Success Rate'].mean()\n",
    "\n",
    "# Create a new row for the totals and averages, then append it to the DataFrame\n",
    "summary_row = pd.DataFrame({\n",
    "    'Orbit': ['All Orbits'],\n",
    "    'Average Success Rate': [average_of_averages],\n",
    "    'Total Launches': [total_launches]\n",
    "})\n",
    "\n",
    "orbit_success_rate = pd.concat([orbit_success_rate, summary_row], ignore_index=True)\n",
    "\n",
    "# Filter the order of the data by success rate descendingly and ensure the last row stays at the bottom\n",
    "orbit_success_rate = orbit_success_rate.sort_values(\n",
    "    by='Average Success Rate',\n",
    "    ascending=False,\n",
    "    ignore_index=True\n",
    ")\n",
    "\n",
    "# Place the summary row at the end of the DataFrame\n",
    "orbit_success_rate = pd.concat([orbit_success_rate.iloc[:-1], orbit_success_rate.iloc[-1:]])\n",
    "\n",
    "orbit_success_rate\n"
   ]
  },
  {
   "cell_type": "code",
   "execution_count": 63,
   "metadata": {},
   "outputs": [
    {
     "data": {
      "application/vnd.plotly.v1+json": {
       "config": {
        "plotlyServerURL": "https://plot.ly"
       },
       "data": [
        {
         "alignmentgroup": "True",
         "hovertemplate": "Average Success Rate=%{marker.color}<br>Orbit=%{y}<extra></extra>",
         "legendgroup": "",
         "marker": {
          "color": [
           100,
           100,
           100,
           100,
           85.71428571428571,
           73.1120731120731,
           71.42857142857143,
           66.66666666666666,
           66.66666666666666,
           61.904761904761905,
           51.85185185185185,
           0
          ],
          "coloraxis": "coloraxis",
          "pattern": {
           "shape": ""
          }
         },
         "name": "",
         "offsetgroup": "",
         "orientation": "h",
         "showlegend": false,
         "text": [
          100,
          100,
          100,
          100,
          85.71428571428571,
          73.1120731120731,
          71.42857142857143,
          66.66666666666666,
          66.66666666666666,
          61.904761904761905,
          51.85185185185185,
          0
         ],
         "textposition": "outside",
         "texttemplate": "%{text:.1f}",
         "type": "bar",
         "x": [
          100,
          100,
          100,
          100,
          85.71428571428571,
          73.1120731120731,
          71.42857142857143,
          66.66666666666666,
          66.66666666666666,
          61.904761904761905,
          51.85185185185185,
          0
         ],
         "xaxis": "x",
         "y": [
          "ES-L1",
          "GEO",
          "HEO",
          "SSO",
          "VLEO",
          "All Orbits",
          "LEO",
          "MEO",
          "PO",
          "ISS",
          "GTO",
          "SO"
         ],
         "yaxis": "y"
        }
       ],
       "layout": {
        "barmode": "relative",
        "coloraxis": {
         "colorbar": {
          "title": {
           "text": "Average Success Rate"
          }
         },
         "colorscale": [
          [
           0,
           "#0d0887"
          ],
          [
           0.1111111111111111,
           "#46039f"
          ],
          [
           0.2222222222222222,
           "#7201a8"
          ],
          [
           0.3333333333333333,
           "#9c179e"
          ],
          [
           0.4444444444444444,
           "#bd3786"
          ],
          [
           0.5555555555555556,
           "#d8576b"
          ],
          [
           0.6666666666666666,
           "#ed7953"
          ],
          [
           0.7777777777777778,
           "#fb9f3a"
          ],
          [
           0.8888888888888888,
           "#fdca26"
          ],
          [
           1,
           "#f0f921"
          ]
         ]
        },
        "legend": {
         "tracegroupgap": 0
        },
        "template": {
         "data": {
          "bar": [
           {
            "error_x": {
             "color": "#f2f5fa"
            },
            "error_y": {
             "color": "#f2f5fa"
            },
            "marker": {
             "line": {
              "color": "rgb(17,17,17)",
              "width": 0.5
             },
             "pattern": {
              "fillmode": "overlay",
              "size": 10,
              "solidity": 0.2
             }
            },
            "type": "bar"
           }
          ],
          "barpolar": [
           {
            "marker": {
             "line": {
              "color": "rgb(17,17,17)",
              "width": 0.5
             },
             "pattern": {
              "fillmode": "overlay",
              "size": 10,
              "solidity": 0.2
             }
            },
            "type": "barpolar"
           }
          ],
          "carpet": [
           {
            "aaxis": {
             "endlinecolor": "#A2B1C6",
             "gridcolor": "#506784",
             "linecolor": "#506784",
             "minorgridcolor": "#506784",
             "startlinecolor": "#A2B1C6"
            },
            "baxis": {
             "endlinecolor": "#A2B1C6",
             "gridcolor": "#506784",
             "linecolor": "#506784",
             "minorgridcolor": "#506784",
             "startlinecolor": "#A2B1C6"
            },
            "type": "carpet"
           }
          ],
          "choropleth": [
           {
            "colorbar": {
             "outlinewidth": 0,
             "ticks": ""
            },
            "type": "choropleth"
           }
          ],
          "contour": [
           {
            "colorbar": {
             "outlinewidth": 0,
             "ticks": ""
            },
            "colorscale": [
             [
              0,
              "#0d0887"
             ],
             [
              0.1111111111111111,
              "#46039f"
             ],
             [
              0.2222222222222222,
              "#7201a8"
             ],
             [
              0.3333333333333333,
              "#9c179e"
             ],
             [
              0.4444444444444444,
              "#bd3786"
             ],
             [
              0.5555555555555556,
              "#d8576b"
             ],
             [
              0.6666666666666666,
              "#ed7953"
             ],
             [
              0.7777777777777778,
              "#fb9f3a"
             ],
             [
              0.8888888888888888,
              "#fdca26"
             ],
             [
              1,
              "#f0f921"
             ]
            ],
            "type": "contour"
           }
          ],
          "contourcarpet": [
           {
            "colorbar": {
             "outlinewidth": 0,
             "ticks": ""
            },
            "type": "contourcarpet"
           }
          ],
          "heatmap": [
           {
            "colorbar": {
             "outlinewidth": 0,
             "ticks": ""
            },
            "colorscale": [
             [
              0,
              "#0d0887"
             ],
             [
              0.1111111111111111,
              "#46039f"
             ],
             [
              0.2222222222222222,
              "#7201a8"
             ],
             [
              0.3333333333333333,
              "#9c179e"
             ],
             [
              0.4444444444444444,
              "#bd3786"
             ],
             [
              0.5555555555555556,
              "#d8576b"
             ],
             [
              0.6666666666666666,
              "#ed7953"
             ],
             [
              0.7777777777777778,
              "#fb9f3a"
             ],
             [
              0.8888888888888888,
              "#fdca26"
             ],
             [
              1,
              "#f0f921"
             ]
            ],
            "type": "heatmap"
           }
          ],
          "heatmapgl": [
           {
            "colorbar": {
             "outlinewidth": 0,
             "ticks": ""
            },
            "colorscale": [
             [
              0,
              "#0d0887"
             ],
             [
              0.1111111111111111,
              "#46039f"
             ],
             [
              0.2222222222222222,
              "#7201a8"
             ],
             [
              0.3333333333333333,
              "#9c179e"
             ],
             [
              0.4444444444444444,
              "#bd3786"
             ],
             [
              0.5555555555555556,
              "#d8576b"
             ],
             [
              0.6666666666666666,
              "#ed7953"
             ],
             [
              0.7777777777777778,
              "#fb9f3a"
             ],
             [
              0.8888888888888888,
              "#fdca26"
             ],
             [
              1,
              "#f0f921"
             ]
            ],
            "type": "heatmapgl"
           }
          ],
          "histogram": [
           {
            "marker": {
             "pattern": {
              "fillmode": "overlay",
              "size": 10,
              "solidity": 0.2
             }
            },
            "type": "histogram"
           }
          ],
          "histogram2d": [
           {
            "colorbar": {
             "outlinewidth": 0,
             "ticks": ""
            },
            "colorscale": [
             [
              0,
              "#0d0887"
             ],
             [
              0.1111111111111111,
              "#46039f"
             ],
             [
              0.2222222222222222,
              "#7201a8"
             ],
             [
              0.3333333333333333,
              "#9c179e"
             ],
             [
              0.4444444444444444,
              "#bd3786"
             ],
             [
              0.5555555555555556,
              "#d8576b"
             ],
             [
              0.6666666666666666,
              "#ed7953"
             ],
             [
              0.7777777777777778,
              "#fb9f3a"
             ],
             [
              0.8888888888888888,
              "#fdca26"
             ],
             [
              1,
              "#f0f921"
             ]
            ],
            "type": "histogram2d"
           }
          ],
          "histogram2dcontour": [
           {
            "colorbar": {
             "outlinewidth": 0,
             "ticks": ""
            },
            "colorscale": [
             [
              0,
              "#0d0887"
             ],
             [
              0.1111111111111111,
              "#46039f"
             ],
             [
              0.2222222222222222,
              "#7201a8"
             ],
             [
              0.3333333333333333,
              "#9c179e"
             ],
             [
              0.4444444444444444,
              "#bd3786"
             ],
             [
              0.5555555555555556,
              "#d8576b"
             ],
             [
              0.6666666666666666,
              "#ed7953"
             ],
             [
              0.7777777777777778,
              "#fb9f3a"
             ],
             [
              0.8888888888888888,
              "#fdca26"
             ],
             [
              1,
              "#f0f921"
             ]
            ],
            "type": "histogram2dcontour"
           }
          ],
          "mesh3d": [
           {
            "colorbar": {
             "outlinewidth": 0,
             "ticks": ""
            },
            "type": "mesh3d"
           }
          ],
          "parcoords": [
           {
            "line": {
             "colorbar": {
              "outlinewidth": 0,
              "ticks": ""
             }
            },
            "type": "parcoords"
           }
          ],
          "pie": [
           {
            "automargin": true,
            "type": "pie"
           }
          ],
          "scatter": [
           {
            "marker": {
             "line": {
              "color": "#283442"
             }
            },
            "type": "scatter"
           }
          ],
          "scatter3d": [
           {
            "line": {
             "colorbar": {
              "outlinewidth": 0,
              "ticks": ""
             }
            },
            "marker": {
             "colorbar": {
              "outlinewidth": 0,
              "ticks": ""
             }
            },
            "type": "scatter3d"
           }
          ],
          "scattercarpet": [
           {
            "marker": {
             "colorbar": {
              "outlinewidth": 0,
              "ticks": ""
             }
            },
            "type": "scattercarpet"
           }
          ],
          "scattergeo": [
           {
            "marker": {
             "colorbar": {
              "outlinewidth": 0,
              "ticks": ""
             }
            },
            "type": "scattergeo"
           }
          ],
          "scattergl": [
           {
            "marker": {
             "line": {
              "color": "#283442"
             }
            },
            "type": "scattergl"
           }
          ],
          "scattermapbox": [
           {
            "marker": {
             "colorbar": {
              "outlinewidth": 0,
              "ticks": ""
             }
            },
            "type": "scattermapbox"
           }
          ],
          "scatterpolar": [
           {
            "marker": {
             "colorbar": {
              "outlinewidth": 0,
              "ticks": ""
             }
            },
            "type": "scatterpolar"
           }
          ],
          "scatterpolargl": [
           {
            "marker": {
             "colorbar": {
              "outlinewidth": 0,
              "ticks": ""
             }
            },
            "type": "scatterpolargl"
           }
          ],
          "scatterternary": [
           {
            "marker": {
             "colorbar": {
              "outlinewidth": 0,
              "ticks": ""
             }
            },
            "type": "scatterternary"
           }
          ],
          "surface": [
           {
            "colorbar": {
             "outlinewidth": 0,
             "ticks": ""
            },
            "colorscale": [
             [
              0,
              "#0d0887"
             ],
             [
              0.1111111111111111,
              "#46039f"
             ],
             [
              0.2222222222222222,
              "#7201a8"
             ],
             [
              0.3333333333333333,
              "#9c179e"
             ],
             [
              0.4444444444444444,
              "#bd3786"
             ],
             [
              0.5555555555555556,
              "#d8576b"
             ],
             [
              0.6666666666666666,
              "#ed7953"
             ],
             [
              0.7777777777777778,
              "#fb9f3a"
             ],
             [
              0.8888888888888888,
              "#fdca26"
             ],
             [
              1,
              "#f0f921"
             ]
            ],
            "type": "surface"
           }
          ],
          "table": [
           {
            "cells": {
             "fill": {
              "color": "#506784"
             },
             "line": {
              "color": "rgb(17,17,17)"
             }
            },
            "header": {
             "fill": {
              "color": "#2a3f5f"
             },
             "line": {
              "color": "rgb(17,17,17)"
             }
            },
            "type": "table"
           }
          ]
         },
         "layout": {
          "annotationdefaults": {
           "arrowcolor": "#f2f5fa",
           "arrowhead": 0,
           "arrowwidth": 1
          },
          "autotypenumbers": "strict",
          "coloraxis": {
           "colorbar": {
            "outlinewidth": 0,
            "ticks": ""
           }
          },
          "colorscale": {
           "diverging": [
            [
             0,
             "#8e0152"
            ],
            [
             0.1,
             "#c51b7d"
            ],
            [
             0.2,
             "#de77ae"
            ],
            [
             0.3,
             "#f1b6da"
            ],
            [
             0.4,
             "#fde0ef"
            ],
            [
             0.5,
             "#f7f7f7"
            ],
            [
             0.6,
             "#e6f5d0"
            ],
            [
             0.7,
             "#b8e186"
            ],
            [
             0.8,
             "#7fbc41"
            ],
            [
             0.9,
             "#4d9221"
            ],
            [
             1,
             "#276419"
            ]
           ],
           "sequential": [
            [
             0,
             "#0d0887"
            ],
            [
             0.1111111111111111,
             "#46039f"
            ],
            [
             0.2222222222222222,
             "#7201a8"
            ],
            [
             0.3333333333333333,
             "#9c179e"
            ],
            [
             0.4444444444444444,
             "#bd3786"
            ],
            [
             0.5555555555555556,
             "#d8576b"
            ],
            [
             0.6666666666666666,
             "#ed7953"
            ],
            [
             0.7777777777777778,
             "#fb9f3a"
            ],
            [
             0.8888888888888888,
             "#fdca26"
            ],
            [
             1,
             "#f0f921"
            ]
           ],
           "sequentialminus": [
            [
             0,
             "#0d0887"
            ],
            [
             0.1111111111111111,
             "#46039f"
            ],
            [
             0.2222222222222222,
             "#7201a8"
            ],
            [
             0.3333333333333333,
             "#9c179e"
            ],
            [
             0.4444444444444444,
             "#bd3786"
            ],
            [
             0.5555555555555556,
             "#d8576b"
            ],
            [
             0.6666666666666666,
             "#ed7953"
            ],
            [
             0.7777777777777778,
             "#fb9f3a"
            ],
            [
             0.8888888888888888,
             "#fdca26"
            ],
            [
             1,
             "#f0f921"
            ]
           ]
          },
          "colorway": [
           "#636efa",
           "#EF553B",
           "#00cc96",
           "#ab63fa",
           "#FFA15A",
           "#19d3f3",
           "#FF6692",
           "#B6E880",
           "#FF97FF",
           "#FECB52"
          ],
          "font": {
           "color": "#f2f5fa"
          },
          "geo": {
           "bgcolor": "rgb(17,17,17)",
           "lakecolor": "rgb(17,17,17)",
           "landcolor": "rgb(17,17,17)",
           "showlakes": true,
           "showland": true,
           "subunitcolor": "#506784"
          },
          "hoverlabel": {
           "align": "left"
          },
          "hovermode": "closest",
          "mapbox": {
           "style": "dark"
          },
          "paper_bgcolor": "rgb(17,17,17)",
          "plot_bgcolor": "rgb(17,17,17)",
          "polar": {
           "angularaxis": {
            "gridcolor": "#506784",
            "linecolor": "#506784",
            "ticks": ""
           },
           "bgcolor": "rgb(17,17,17)",
           "radialaxis": {
            "gridcolor": "#506784",
            "linecolor": "#506784",
            "ticks": ""
           }
          },
          "scene": {
           "xaxis": {
            "backgroundcolor": "rgb(17,17,17)",
            "gridcolor": "#506784",
            "gridwidth": 2,
            "linecolor": "#506784",
            "showbackground": true,
            "ticks": "",
            "zerolinecolor": "#C8D4E3"
           },
           "yaxis": {
            "backgroundcolor": "rgb(17,17,17)",
            "gridcolor": "#506784",
            "gridwidth": 2,
            "linecolor": "#506784",
            "showbackground": true,
            "ticks": "",
            "zerolinecolor": "#C8D4E3"
           },
           "zaxis": {
            "backgroundcolor": "rgb(17,17,17)",
            "gridcolor": "#506784",
            "gridwidth": 2,
            "linecolor": "#506784",
            "showbackground": true,
            "ticks": "",
            "zerolinecolor": "#C8D4E3"
           }
          },
          "shapedefaults": {
           "line": {
            "color": "#f2f5fa"
           }
          },
          "sliderdefaults": {
           "bgcolor": "#C8D4E3",
           "bordercolor": "rgb(17,17,17)",
           "borderwidth": 1,
           "tickwidth": 0
          },
          "ternary": {
           "aaxis": {
            "gridcolor": "#506784",
            "linecolor": "#506784",
            "ticks": ""
           },
           "baxis": {
            "gridcolor": "#506784",
            "linecolor": "#506784",
            "ticks": ""
           },
           "bgcolor": "rgb(17,17,17)",
           "caxis": {
            "gridcolor": "#506784",
            "linecolor": "#506784",
            "ticks": ""
           }
          },
          "title": {
           "x": 0.05
          },
          "updatemenudefaults": {
           "bgcolor": "#506784",
           "borderwidth": 0
          },
          "xaxis": {
           "automargin": true,
           "gridcolor": "#283442",
           "linecolor": "#506784",
           "ticks": "",
           "title": {
            "standoff": 15
           },
           "zerolinecolor": "#283442",
           "zerolinewidth": 2
          },
          "yaxis": {
           "automargin": true,
           "gridcolor": "#283442",
           "linecolor": "#506784",
           "ticks": "",
           "title": {
            "standoff": 15
           },
           "zerolinecolor": "#283442",
           "zerolinewidth": 2
          }
         }
        },
        "title": {
         "text": "Success rate of each orbit"
        },
        "xaxis": {
         "anchor": "y",
         "domain": [
          0,
          1
         ],
         "title": {
          "text": "Success rate (%)"
         }
        },
        "yaxis": {
         "anchor": "x",
         "domain": [
          0,
          1
         ],
         "title": {
          "text": "Orbit"
         }
        }
       }
      }
     },
     "metadata": {},
     "output_type": "display_data"
    }
   ],
   "source": [
    "ax = px.bar(\n",
    "    orbit_success_rate,\n",
    "    x = \"Average Success Rate\",\n",
    "    y = \"Orbit\",\n",
    "    color = \"Average Success Rate\",\n",
    "    text = 'Average Success Rate',\n",
    "    title = 'Success rate of each orbit',\n",
    "    template = 'plotly_dark',\n",
    ")\n",
    "\n",
    "ax.update_layout(\n",
    "    xaxis_title = \"Success rate (%)\",\n",
    "    yaxis_title = 'Orbit'\n",
    ")\n",
    "\n",
    "ax.update_traces(\n",
    "    texttemplate='%{text:.1f}', \n",
    "    textposition='outside'\n",
    ")\n",
    "\n",
    "ax.show()"
   ]
  },
  {
   "cell_type": "markdown",
   "metadata": {},
   "source": [
    "- *Orbit ES-L1, GEO, HEO, SSO has 100% success rate. However note that 3/4 of them only have 1 launch.*\n",
    "- *Orbit VLEO has more than 80% of success rate.*\n",
    "- *Orbit GTO and ISS have the most launch count*"
   ]
  },
  {
   "cell_type": "markdown",
   "metadata": {},
   "source": [
    "### <span style=\"color:#ff9933\">V. The relationship between Flight number and Orbit type</span>"
   ]
  },
  {
   "cell_type": "code",
   "execution_count": 64,
   "metadata": {},
   "outputs": [
    {
     "data": {
      "image/png": "[encoded data removed]",
      "text/plain": [
       "<Figure size 2558.88x500 with 1 Axes>"
      ]
     },
     "metadata": {},
     "output_type": "display_data"
    }
   ],
   "source": [
    "# Plot a scatter point chart with x axis to be FlightNumber and y axis to be the Orbit, and hue to be the class value\n",
    "sns.catplot(\n",
    "    data = falcon9_technical,\n",
    "    x = 'FlightNumber',\n",
    "    y = 'Orbit',\n",
    "    hue = 'Class',\n",
    "    palette = colors,\n",
    "    aspect = 5\n",
    "),\n",
    "plt.title('The relationship between Flight number and Orbit type'),\n",
    "plt.xlabel(\n",
    "    'Flight number',\n",
    "    fontsize = 15\n",
    "),\n",
    "plt.ylabel(\n",
    "    'Orbit',\n",
    "    fontsize = 15),\n",
    "plt.show()"
   ]
  },
  {
   "cell_type": "markdown",
   "metadata": {},
   "source": [
    "- *In the LEO orbit the Success appears related to the number of flights.*\n",
    "- *It seems that there is no relationship between flight number when in GTO, PO, ISS orbit.*"
   ]
  },
  {
   "cell_type": "markdown",
   "metadata": {},
   "source": [
    "### <span style=\"color:#ff9933\">VI. The relationship between Payload and Orbit type</span>"
   ]
  },
  {
   "cell_type": "code",
   "execution_count": 65,
   "metadata": {},
   "outputs": [
    {
     "data": {
      "image/png": "[encoded data removed]",
      "text/plain": [
       "<Figure size 2558.88x500 with 1 Axes>"
      ]
     },
     "metadata": {},
     "output_type": "display_data"
    }
   ],
   "source": [
    "sns.catplot(\n",
    "    data = falcon9_technical,\n",
    "    x = 'PayloadMass',\n",
    "    y = 'Orbit',\n",
    "    hue = 'Class',\n",
    "    palette = colors,\n",
    "    aspect = 5\n",
    "),\n",
    "plt.title('The relationship between Payload mass and Orbit type'),\n",
    "plt.xlabel(\n",
    "    'Payload mass',\n",
    "    fontsize = 15\n",
    "),\n",
    "plt.ylabel(\n",
    "    'Orbit',\n",
    "    fontsize = 15),\n",
    "plt.show()"
   ]
  },
  {
   "cell_type": "markdown",
   "metadata": {},
   "source": [
    "- *With heavy payloads the successful landing or positive landing rate are more for LEO and ISS.*\n",
    "- *For the rest, either they only have '1' class, or the relationship cannot be distinguished.*"
   ]
  },
  {
   "cell_type": "markdown",
   "metadata": {},
   "source": [
    "### <span style=\"color:#ff9933\">VII. Success rate by number of launches</span>"
   ]
  },
  {
   "cell_type": "code",
   "execution_count": 66,
   "metadata": {},
   "outputs": [
    {
     "data": {
      "image/png": "[encoded data removed]",
      "text/plain": [
       "<Figure size 640x480 with 1 Axes>"
      ]
     },
     "metadata": {},
     "output_type": "display_data"
    }
   ],
   "source": [
    "# Sort the dataset by flight number to ensure the launches are in order\n",
    "falcon9_technical.sort_values(by='FlightNumber', inplace=True)\n",
    "\n",
    "# Group every 10 launches\n",
    "falcon9_technical['LaunchGroup'] = (falcon9_technical['FlightNumber'] // 10) * 10\n",
    "\n",
    "# Group the dataset by 'LaunchGroup' and calculate the success rate for each group\n",
    "success_rate = falcon9_technical.groupby('LaunchGroup')['Class'].mean().reset_index(name='SuccessRate')\n",
    "\n",
    "# Convert success rate into %\n",
    "success_rate['SuccessRate'] *= 100\n",
    "\n",
    "sns.lineplot(\n",
    "    data=success_rate,\n",
    "    x='LaunchGroup',\n",
    "    y='SuccessRate'\n",
    ")\n",
    "plt.title('Success Rate after certain launches')\n",
    "plt.ylabel('Success Rate (%)')\n",
    "plt.xlabel('Number of launches')\n",
    "plt.show()\n"
   ]
  },
  {
   "cell_type": "markdown",
   "metadata": {},
   "source": [
    "- *It is visible that success rate increased in the whole period.*\n",
    "- *From flight 10th to 20th, the success rate rapidly increased.*\n",
    "- *Reached 100% success rate after 80 flights*"
   ]
  },
  {
   "cell_type": "markdown",
   "metadata": {},
   "source": [
    "### <span style=\"color:#ff9933\">VIII. Success rate by year</span>"
   ]
  },
  {
   "cell_type": "markdown",
   "metadata": {},
   "source": [
    "Success rate by year</span>"
   ]
  },
  {
   "cell_type": "code",
   "execution_count": 67,
   "metadata": {},
   "outputs": [
    {
     "data": {
      "image/png": "[encoded data removed]",
      "text/plain": [
       "<Figure size 640x480 with 1 Axes>"
      ]
     },
     "metadata": {},
     "output_type": "display_data"
    }
   ],
   "source": [
    "# Assuming falcon9_technical is your DataFrame and 'Date' is a column of datetime.date objects\n",
    "def extract_year(date_series):\n",
    "    return date_series.apply(lambda x: x.year)  # Use the .year attribute for datetime.date objects\n",
    "\n",
    "# Now, create a new column in falcon9_technical directly\n",
    "falcon9_technical['Year'] = extract_year(falcon9_technical['Date'])\n",
    "\n",
    "# Calculate average success rate per year\n",
    "df_yearly = falcon9_technical.groupby('Year')['Class'].mean().reset_index()\n",
    "\n",
    "# Convert success rate into %\n",
    "df_yearly['Class'] *= 100\n",
    "\n",
    "# Plot\n",
    "sns.lineplot(\n",
    "    data=df_yearly,\n",
    "    x='Year',\n",
    "    y='Class'\n",
    ")\n",
    "plt.title('Success Rate by Year')\n",
    "plt.ylabel('Success Rate (%)')\n",
    "plt.xlabel('Year')\n",
    "plt.show()"
   ]
  },
  {
   "cell_type": "markdown",
   "metadata": {},
   "source": [
    "- *It is visible that success rate increased in the whole period.*\n",
    "- *Year 2019 has the highest success rate.*"
   ]
  },
  {
   "cell_type": "markdown",
   "metadata": {},
   "source": [
    "### <span style=\"color:#ff9933\">IX. Launch outcome by year</span>"
   ]
  },
  {
   "cell_type": "code",
   "execution_count": 68,
   "metadata": {},
   "outputs": [
    {
     "data": {
      "image/png": "[encoded data removed]",
      "text/plain": [
       "<Figure size 640x480 with 1 Axes>"
      ]
     },
     "metadata": {},
     "output_type": "display_data"
    }
   ],
   "source": [
    "sns.histplot(\n",
    "    data = falcon9_technical,\n",
    "    x = \"Year\",\n",
    "    hue = \"Class\",\n",
    "    hue_order = [1,0],\n",
    "    multiple = \"stack\"\n",
    "),\n",
    "plt.title(\"Launch outcome by year\"),\n",
    "plt.xlabel(\"Year\"),\n",
    "plt.ylabel(\"Launch count\"),\n",
    "plt.yticks(\n",
    "    np.arange(\n",
    "        0, 22,\n",
    "        step = 2\n",
    "    )\n",
    "),\n",
    "plt.show()"
   ]
  },
  {
   "cell_type": "markdown",
   "metadata": {},
   "source": [
    "*Success rate is rising with successful class dominates in the last 5 years from 2016-2020.*"
   ]
  },
  {
   "cell_type": "markdown",
   "metadata": {},
   "source": [
    "### <span style=\"color:#ff9933\">X. Launch site used by year</span>"
   ]
  },
  {
   "cell_type": "code",
   "execution_count": 69,
   "metadata": {},
   "outputs": [
    {
     "data": {
      "image/png": "[encoded data removed]",
      "text/plain": [
       "<Figure size 640x480 with 1 Axes>"
      ]
     },
     "metadata": {},
     "output_type": "display_data"
    }
   ],
   "source": [
    "sns.histplot(\n",
    "    data = falcon9_technical,\n",
    "    x = \"Year\",\n",
    "    hue = \"LaunchSite\",\n",
    "    hue_order = [\"KSC LC 39A\", \"VAFB SLC 4E\",  \"CCSFS SLC 40\"],\n",
    "    multiple = \"stack\"\n",
    "),\n",
    "plt.title(\"Launch site by year\"),\n",
    "plt.xlabel(\"Year\"),\n",
    "plt.ylabel(\"Launch count\"),\n",
    "plt.yticks(\n",
    "    np.arange(\n",
    "        0, 22,\n",
    "        step = 2\n",
    "    )\n",
    "),\n",
    "plt.show()"
   ]
  },
  {
   "cell_type": "markdown",
   "metadata": {},
   "source": [
    "*CCSFS SLC 40 has the most launches thoroughout the years.*"
   ]
  },
  {
   "cell_type": "markdown",
   "metadata": {},
   "source": [
    "## **B. Geographical visualization with `folium`**"
   ]
  },
  {
   "cell_type": "markdown",
   "metadata": {},
   "source": [
    "**Prepare data for visualization**\n",
    "\n",
    "- `falcon9_technical` data will be used in this section.   \n",
    "- Because we are plotting geographic data, we will filter the data to consider \n",
    "only `launch site`, `latitude` and `longitude` as well as `class` to observe the relationship between \n",
    "success/failed launches and launch geographic location"
   ]
  },
  {
   "cell_type": "code",
   "execution_count": 70,
   "metadata": {},
   "outputs": [
    {
     "data": {
      "text/html": [
       "<div>\n",
       "<style scoped>\n",
       "    .dataframe tbody tr th:only-of-type {\n",
       "        vertical-align: middle;\n",
       "    }\n",
       "\n",
       "    .dataframe tbody tr th {\n",
       "        vertical-align: top;\n",
       "    }\n",
       "\n",
       "    .dataframe thead th {\n",
       "        text-align: right;\n",
       "    }\n",
       "</style>\n",
       "<table border=\"1\" class=\"dataframe\">\n",
       "  <thead>\n",
       "    <tr style=\"text-align: right;\">\n",
       "      <th></th>\n",
       "      <th>LaunchSite</th>\n",
       "      <th>Latitude</th>\n",
       "      <th>Longitude</th>\n",
       "      <th>Class</th>\n",
       "    </tr>\n",
       "  </thead>\n",
       "  <tbody>\n",
       "    <tr>\n",
       "      <th>4</th>\n",
       "      <td>CCSFS SLC 40</td>\n",
       "      <td>28.561857</td>\n",
       "      <td>-80.577366</td>\n",
       "      <td>0</td>\n",
       "    </tr>\n",
       "    <tr>\n",
       "      <th>5</th>\n",
       "      <td>CCSFS SLC 40</td>\n",
       "      <td>28.561857</td>\n",
       "      <td>-80.577366</td>\n",
       "      <td>0</td>\n",
       "    </tr>\n",
       "    <tr>\n",
       "      <th>6</th>\n",
       "      <td>CCSFS SLC 40</td>\n",
       "      <td>28.561857</td>\n",
       "      <td>-80.577366</td>\n",
       "      <td>0</td>\n",
       "    </tr>\n",
       "    <tr>\n",
       "      <th>7</th>\n",
       "      <td>VAFB SLC 4E</td>\n",
       "      <td>34.632093</td>\n",
       "      <td>-120.610829</td>\n",
       "      <td>0</td>\n",
       "    </tr>\n",
       "    <tr>\n",
       "      <th>8</th>\n",
       "      <td>CCSFS SLC 40</td>\n",
       "      <td>28.561857</td>\n",
       "      <td>-80.577366</td>\n",
       "      <td>0</td>\n",
       "    </tr>\n",
       "  </tbody>\n",
       "</table>\n",
       "</div>"
      ],
      "text/plain": [
       "     LaunchSite   Latitude   Longitude  Class\n",
       "4  CCSFS SLC 40  28.561857  -80.577366      0\n",
       "5  CCSFS SLC 40  28.561857  -80.577366      0\n",
       "6  CCSFS SLC 40  28.561857  -80.577366      0\n",
       "7   VAFB SLC 4E  34.632093 -120.610829      0\n",
       "8  CCSFS SLC 40  28.561857  -80.577366      0"
      ]
     },
     "execution_count": 70,
     "metadata": {},
     "output_type": "execute_result"
    }
   ],
   "source": [
    "# Select relevant columns and create a new df\n",
    "falcon9_geo = falcon9_technical[['LaunchSite', 'Latitude', 'Longitude', 'Class']]\n",
    "falcon9_geo.head()"
   ]
  },
  {
   "cell_type": "code",
   "execution_count": 71,
   "metadata": {},
   "outputs": [
    {
     "data": {
      "text/html": [
       "<div>\n",
       "<style scoped>\n",
       "    .dataframe tbody tr th:only-of-type {\n",
       "        vertical-align: middle;\n",
       "    }\n",
       "\n",
       "    .dataframe tbody tr th {\n",
       "        vertical-align: top;\n",
       "    }\n",
       "\n",
       "    .dataframe thead th {\n",
       "        text-align: right;\n",
       "    }\n",
       "</style>\n",
       "<table border=\"1\" class=\"dataframe\">\n",
       "  <thead>\n",
       "    <tr style=\"text-align: right;\">\n",
       "      <th></th>\n",
       "      <th>LaunchSite</th>\n",
       "      <th>Latitude</th>\n",
       "      <th>Longitude</th>\n",
       "    </tr>\n",
       "  </thead>\n",
       "  <tbody>\n",
       "    <tr>\n",
       "      <th>0</th>\n",
       "      <td>CCSFS SLC 40</td>\n",
       "      <td>28.561857</td>\n",
       "      <td>-80.577366</td>\n",
       "    </tr>\n",
       "    <tr>\n",
       "      <th>1</th>\n",
       "      <td>KSC LC 39A</td>\n",
       "      <td>28.608058</td>\n",
       "      <td>-80.603956</td>\n",
       "    </tr>\n",
       "    <tr>\n",
       "      <th>2</th>\n",
       "      <td>VAFB SLC 4E</td>\n",
       "      <td>34.632093</td>\n",
       "      <td>-120.610829</td>\n",
       "    </tr>\n",
       "    <tr>\n",
       "      <th>0</th>\n",
       "      <td>NASA JSC</td>\n",
       "      <td>29.559685</td>\n",
       "      <td>-95.083097</td>\n",
       "    </tr>\n",
       "  </tbody>\n",
       "</table>\n",
       "</div>"
      ],
      "text/plain": [
       "     LaunchSite   Latitude   Longitude\n",
       "0  CCSFS SLC 40  28.561857  -80.577366\n",
       "1    KSC LC 39A  28.608058  -80.603956\n",
       "2   VAFB SLC 4E  34.632093 -120.610829\n",
       "0      NASA JSC  29.559685  -95.083097"
      ]
     },
     "execution_count": 71,
     "metadata": {},
     "output_type": "execute_result"
    }
   ],
   "source": [
    "# Since each launch site only have 1 latitude and longitude\n",
    "# Group them by `LaunchSite` to see the sites we have\n",
    "launch_sites = falcon9_geo.groupby(['LaunchSite'], as_index = False).first()\n",
    "launch_sites = launch_sites.drop('Class', axis = 1)\n",
    "\n",
    "# Add NASA Johnson Space Center coordinate to `launch_sites` df\n",
    "nasa_coordinate = [29.559684888503615, -95.0830971930759]\n",
    "new_row = pd.DataFrame({\n",
    "    'LaunchSite': 'NASA JSC', \n",
    "    'Latitude': nasa_coordinate[0], \n",
    "    'Longitude': nasa_coordinate[1]\n",
    "}, index = [0])\n",
    "launch_sites = pd.concat([launch_sites, new_row])\n",
    "launch_sites"
   ]
  },
  {
   "cell_type": "markdown",
   "metadata": {},
   "source": [
    "**Create a folium `map` object:**\n",
    "- Highlight each area with a circle and label the name of the site.   \n",
    "- The center location to be NASA Johnson Space Center (at Houston, Texas), colored purple.\n",
    "- The launch sites will be colored green\n",
    "\n"
   ]
  },
  {
   "cell_type": "code",
   "execution_count": 72,
   "metadata": {},
   "outputs": [
    {
     "data": {
      "text/html": [
       "<div style=\"width:100%;\"><div style=\"position:relative;width:100%;height:0;padding-bottom:60%;\"><span style=\"color:#565656\">Make this Notebook Trusted to load map: File -> Trust Notebook</span><iframe srcdoc=\"&lt;!DOCTYPE html&gt;\n",
       "&lt;html&gt;\n",
       "&lt;head&gt;\n",
       "    \n",
       "    &lt;meta http-equiv=&quot;content-type&quot; content=&quot;text/html; charset=UTF-8&quot; /&gt;\n",
       "    \n",
       "        &lt;script&gt;\n",
       "            L_NO_TOUCH = false;\n",
       "            L_DISABLE_3D = false;\n",
       "        &lt;/script&gt;\n",
       "    \n",
       "    &lt;style&gt;html, body {width: 100%;height: 100%;margin: 0;padding: 0;}&lt;/style&gt;\n",
       "    &lt;style&gt;#map {position:absolute;top:0;bottom:0;right:0;left:0;}&lt;/style&gt;\n",
       "    &lt;script src=&quot;https://cdn.jsdelivr.net/npm/leaflet@1.9.3/dist/leaflet.js&quot;&gt;&lt;/script&gt;\n",
       "    &lt;script src=&quot;https://code.jquery.com/jquery-3.7.1.min.js&quot;&gt;&lt;/script&gt;\n",
       "    &lt;script src=&quot;https://cdn.jsdelivr.net/npm/bootstrap@5.2.2/dist/js/bootstrap.bundle.min.js&quot;&gt;&lt;/script&gt;\n",
       "    &lt;script src=&quot;https://cdnjs.cloudflare.com/ajax/libs/Leaflet.awesome-markers/2.0.2/leaflet.awesome-markers.js&quot;&gt;&lt;/script&gt;\n",
       "    &lt;link rel=&quot;stylesheet&quot; href=&quot;https://cdn.jsdelivr.net/npm/leaflet@1.9.3/dist/leaflet.css&quot;/&gt;\n",
       "    &lt;link rel=&quot;stylesheet&quot; href=&quot;https://cdn.jsdelivr.net/npm/bootstrap@5.2.2/dist/css/bootstrap.min.css&quot;/&gt;\n",
       "    &lt;link rel=&quot;stylesheet&quot; href=&quot;https://netdna.bootstrapcdn.com/bootstrap/3.0.0/css/bootstrap.min.css&quot;/&gt;\n",
       "    &lt;link rel=&quot;stylesheet&quot; href=&quot;https://cdn.jsdelivr.net/npm/@fortawesome/fontawesome-free@6.2.0/css/all.min.css&quot;/&gt;\n",
       "    &lt;link rel=&quot;stylesheet&quot; href=&quot;https://cdnjs.cloudflare.com/ajax/libs/Leaflet.awesome-markers/2.0.2/leaflet.awesome-markers.css&quot;/&gt;\n",
       "    &lt;link rel=&quot;stylesheet&quot; href=&quot;https://cdn.jsdelivr.net/gh/python-visualization/folium/folium/templates/leaflet.awesome.rotate.min.css&quot;/&gt;\n",
       "    \n",
       "            &lt;meta name=&quot;viewport&quot; content=&quot;width=device-width,\n",
       "                initial-scale=1.0, maximum-scale=1.0, user-scalable=no&quot; /&gt;\n",
       "            &lt;style&gt;\n",
       "                #map_d6c7214afb0496da49d9b6467fca1e9d {\n",
       "                    position: relative;\n",
       "                    width: 100.0%;\n",
       "                    height: 100.0%;\n",
       "                    left: 0.0%;\n",
       "                    top: 0.0%;\n",
       "                }\n",
       "                .leaflet-container { font-size: 1rem; }\n",
       "            &lt;/style&gt;\n",
       "        \n",
       "&lt;/head&gt;\n",
       "&lt;body&gt;\n",
       "    \n",
       "    \n",
       "            &lt;div class=&quot;folium-map&quot; id=&quot;map_d6c7214afb0496da49d9b6467fca1e9d&quot; &gt;&lt;/div&gt;\n",
       "        \n",
       "&lt;/body&gt;\n",
       "&lt;script&gt;\n",
       "    \n",
       "    \n",
       "            var map_d6c7214afb0496da49d9b6467fca1e9d = L.map(\n",
       "                &quot;map_d6c7214afb0496da49d9b6467fca1e9d&quot;,\n",
       "                {\n",
       "                    center: [29.559684888503615, -95.0830971930759],\n",
       "                    crs: L.CRS.EPSG3857,\n",
       "                    zoom: 4.4,\n",
       "                    zoomControl: true,\n",
       "                    preferCanvas: false,\n",
       "                }\n",
       "            );\n",
       "\n",
       "            \n",
       "\n",
       "        \n",
       "    \n",
       "            var tile_layer_2b44c0f961e630afbcacb1e856781b98 = L.tileLayer(\n",
       "                &quot;https://tile.openstreetmap.org/{z}/{x}/{y}.png&quot;,\n",
       "                {&quot;attribution&quot;: &quot;\\u0026copy; \\u003ca href=\\&quot;https://www.openstreetmap.org/copyright\\&quot;\\u003eOpenStreetMap\\u003c/a\\u003e contributors&quot;, &quot;detectRetina&quot;: false, &quot;maxNativeZoom&quot;: 19, &quot;maxZoom&quot;: 19, &quot;minZoom&quot;: 0, &quot;noWrap&quot;: false, &quot;opacity&quot;: 1, &quot;subdomains&quot;: &quot;abc&quot;, &quot;tms&quot;: false}\n",
       "            );\n",
       "        \n",
       "    \n",
       "            tile_layer_2b44c0f961e630afbcacb1e856781b98.addTo(map_d6c7214afb0496da49d9b6467fca1e9d);\n",
       "        \n",
       "    \n",
       "            var circle_1916a47073b4961a96dfe810ce8a8412 = L.circle(\n",
       "                [28.5618571, -80.577366],\n",
       "                {&quot;bubblingMouseEvents&quot;: true, &quot;color&quot;: &quot;black&quot;, &quot;dashArray&quot;: null, &quot;dashOffset&quot;: null, &quot;fill&quot;: true, &quot;fillColor&quot;: [&quot;blue&quot;], &quot;fillOpacity&quot;: 0.2, &quot;fillRule&quot;: &quot;evenodd&quot;, &quot;lineCap&quot;: &quot;round&quot;, &quot;lineJoin&quot;: &quot;round&quot;, &quot;opacity&quot;: 1.0, &quot;radius&quot;: 1000, &quot;stroke&quot;: true, &quot;weight&quot;: 3}\n",
       "            ).addTo(map_d6c7214afb0496da49d9b6467fca1e9d);\n",
       "        \n",
       "    \n",
       "            circle_1916a47073b4961a96dfe810ce8a8412.bindTooltip(\n",
       "                `&lt;div&gt;\n",
       "                     CCSFS SLC 40\n",
       "                 &lt;/div&gt;`,\n",
       "                {&quot;sticky&quot;: true}\n",
       "            );\n",
       "        \n",
       "    \n",
       "        var popup_b7a390f4229074e7e56536716184b0b8 = L.popup({&quot;maxWidth&quot;: &quot;100%&quot;});\n",
       "\n",
       "        \n",
       "            \n",
       "                var html_0130b4df2b2e849e93a747b8a01a05e5 = $(`&lt;div id=&quot;html_0130b4df2b2e849e93a747b8a01a05e5&quot; style=&quot;width: 100.0%; height: 100.0%;&quot;&gt;CCSFS SLC 40&lt;/div&gt;`)[0];\n",
       "                popup_b7a390f4229074e7e56536716184b0b8.setContent(html_0130b4df2b2e849e93a747b8a01a05e5);\n",
       "            \n",
       "        \n",
       "\n",
       "        circle_1916a47073b4961a96dfe810ce8a8412.bindPopup(popup_b7a390f4229074e7e56536716184b0b8)\n",
       "        ;\n",
       "\n",
       "        \n",
       "    \n",
       "    \n",
       "            var marker_2c6bb775e098f543acbea4915a698b23 = L.marker(\n",
       "                [28.5618571, -80.577366],\n",
       "                {}\n",
       "            ).addTo(map_d6c7214afb0496da49d9b6467fca1e9d);\n",
       "        \n",
       "    \n",
       "            var div_icon_4b765fe5f39ba19de418846aa2d5d9cc = L.divIcon({&quot;className&quot;: &quot;empty&quot;, &quot;html&quot;: &quot;\\u003cdiv style=\\&quot;font-size: 12; color:blue;\\&quot;\\u003e\\u003cb\\u003eCCSFS SLC 40\\u003c/b\\u003e\\u003c/div\\u003e&quot;, &quot;iconAnchor&quot;: [0, 0], &quot;iconSize&quot;: [20, 20]});\n",
       "            marker_2c6bb775e098f543acbea4915a698b23.setIcon(div_icon_4b765fe5f39ba19de418846aa2d5d9cc);\n",
       "        \n",
       "    \n",
       "            marker_2c6bb775e098f543acbea4915a698b23.bindTooltip(\n",
       "                `&lt;div&gt;\n",
       "                     CCSFS SLC 40\n",
       "                 &lt;/div&gt;`,\n",
       "                {&quot;sticky&quot;: true}\n",
       "            );\n",
       "        \n",
       "    \n",
       "            var circle_1eb5d8f31486cbe3d54bdd07fd9952c2 = L.circle(\n",
       "                [28.6080585, -80.6039558],\n",
       "                {&quot;bubblingMouseEvents&quot;: true, &quot;color&quot;: &quot;black&quot;, &quot;dashArray&quot;: null, &quot;dashOffset&quot;: null, &quot;fill&quot;: true, &quot;fillColor&quot;: [&quot;blue&quot;], &quot;fillOpacity&quot;: 0.2, &quot;fillRule&quot;: &quot;evenodd&quot;, &quot;lineCap&quot;: &quot;round&quot;, &quot;lineJoin&quot;: &quot;round&quot;, &quot;opacity&quot;: 1.0, &quot;radius&quot;: 1000, &quot;stroke&quot;: true, &quot;weight&quot;: 3}\n",
       "            ).addTo(map_d6c7214afb0496da49d9b6467fca1e9d);\n",
       "        \n",
       "    \n",
       "            circle_1eb5d8f31486cbe3d54bdd07fd9952c2.bindTooltip(\n",
       "                `&lt;div&gt;\n",
       "                     KSC LC 39A\n",
       "                 &lt;/div&gt;`,\n",
       "                {&quot;sticky&quot;: true}\n",
       "            );\n",
       "        \n",
       "    \n",
       "        var popup_b2bcf09ffa72b1d519956e6d890b755c = L.popup({&quot;maxWidth&quot;: &quot;100%&quot;});\n",
       "\n",
       "        \n",
       "            \n",
       "                var html_8472289a67b94689c6a0927e242b0e94 = $(`&lt;div id=&quot;html_8472289a67b94689c6a0927e242b0e94&quot; style=&quot;width: 100.0%; height: 100.0%;&quot;&gt;KSC LC 39A&lt;/div&gt;`)[0];\n",
       "                popup_b2bcf09ffa72b1d519956e6d890b755c.setContent(html_8472289a67b94689c6a0927e242b0e94);\n",
       "            \n",
       "        \n",
       "\n",
       "        circle_1eb5d8f31486cbe3d54bdd07fd9952c2.bindPopup(popup_b2bcf09ffa72b1d519956e6d890b755c)\n",
       "        ;\n",
       "\n",
       "        \n",
       "    \n",
       "    \n",
       "            var marker_a2500e309fb1af4301100f1045eda7b8 = L.marker(\n",
       "                [28.6080585, -80.6039558],\n",
       "                {}\n",
       "            ).addTo(map_d6c7214afb0496da49d9b6467fca1e9d);\n",
       "        \n",
       "    \n",
       "            var div_icon_349c78815d789a4c9abc51ca8aeb71b8 = L.divIcon({&quot;className&quot;: &quot;empty&quot;, &quot;html&quot;: &quot;\\u003cdiv style=\\&quot;font-size: 12; color:blue;\\&quot;\\u003e\\u003cb\\u003eKSC LC 39A\\u003c/b\\u003e\\u003c/div\\u003e&quot;, &quot;iconAnchor&quot;: [0, 0], &quot;iconSize&quot;: [20, 20]});\n",
       "            marker_a2500e309fb1af4301100f1045eda7b8.setIcon(div_icon_349c78815d789a4c9abc51ca8aeb71b8);\n",
       "        \n",
       "    \n",
       "            marker_a2500e309fb1af4301100f1045eda7b8.bindTooltip(\n",
       "                `&lt;div&gt;\n",
       "                     KSC LC 39A\n",
       "                 &lt;/div&gt;`,\n",
       "                {&quot;sticky&quot;: true}\n",
       "            );\n",
       "        \n",
       "    \n",
       "            var circle_653c70e1efd5f038f2aa39837c651e66 = L.circle(\n",
       "                [34.632093, -120.610829],\n",
       "                {&quot;bubblingMouseEvents&quot;: true, &quot;color&quot;: &quot;black&quot;, &quot;dashArray&quot;: null, &quot;dashOffset&quot;: null, &quot;fill&quot;: true, &quot;fillColor&quot;: [&quot;blue&quot;], &quot;fillOpacity&quot;: 0.2, &quot;fillRule&quot;: &quot;evenodd&quot;, &quot;lineCap&quot;: &quot;round&quot;, &quot;lineJoin&quot;: &quot;round&quot;, &quot;opacity&quot;: 1.0, &quot;radius&quot;: 1000, &quot;stroke&quot;: true, &quot;weight&quot;: 3}\n",
       "            ).addTo(map_d6c7214afb0496da49d9b6467fca1e9d);\n",
       "        \n",
       "    \n",
       "            circle_653c70e1efd5f038f2aa39837c651e66.bindTooltip(\n",
       "                `&lt;div&gt;\n",
       "                     VAFB SLC 4E\n",
       "                 &lt;/div&gt;`,\n",
       "                {&quot;sticky&quot;: true}\n",
       "            );\n",
       "        \n",
       "    \n",
       "        var popup_951575f520ff159ed648b63d7da655a0 = L.popup({&quot;maxWidth&quot;: &quot;100%&quot;});\n",
       "\n",
       "        \n",
       "            \n",
       "                var html_0e76e70b5a86a4c8f1d05ce2ad59abd9 = $(`&lt;div id=&quot;html_0e76e70b5a86a4c8f1d05ce2ad59abd9&quot; style=&quot;width: 100.0%; height: 100.0%;&quot;&gt;VAFB SLC 4E&lt;/div&gt;`)[0];\n",
       "                popup_951575f520ff159ed648b63d7da655a0.setContent(html_0e76e70b5a86a4c8f1d05ce2ad59abd9);\n",
       "            \n",
       "        \n",
       "\n",
       "        circle_653c70e1efd5f038f2aa39837c651e66.bindPopup(popup_951575f520ff159ed648b63d7da655a0)\n",
       "        ;\n",
       "\n",
       "        \n",
       "    \n",
       "    \n",
       "            var marker_184bb70651a3e981239d9683712c3ce8 = L.marker(\n",
       "                [34.632093, -120.610829],\n",
       "                {}\n",
       "            ).addTo(map_d6c7214afb0496da49d9b6467fca1e9d);\n",
       "        \n",
       "    \n",
       "            var div_icon_ecf509e3d65e5ade127368e3f16dd27e = L.divIcon({&quot;className&quot;: &quot;empty&quot;, &quot;html&quot;: &quot;\\u003cdiv style=\\&quot;font-size: 12; color:blue;\\&quot;\\u003e\\u003cb\\u003eVAFB SLC 4E\\u003c/b\\u003e\\u003c/div\\u003e&quot;, &quot;iconAnchor&quot;: [0, 0], &quot;iconSize&quot;: [20, 20]});\n",
       "            marker_184bb70651a3e981239d9683712c3ce8.setIcon(div_icon_ecf509e3d65e5ade127368e3f16dd27e);\n",
       "        \n",
       "    \n",
       "            marker_184bb70651a3e981239d9683712c3ce8.bindTooltip(\n",
       "                `&lt;div&gt;\n",
       "                     VAFB SLC 4E\n",
       "                 &lt;/div&gt;`,\n",
       "                {&quot;sticky&quot;: true}\n",
       "            );\n",
       "        \n",
       "    \n",
       "            var circle_187ed4064bad1660f852d485767ad165 = L.circle(\n",
       "                [29.559684888503615, -95.0830971930759],\n",
       "                {&quot;bubblingMouseEvents&quot;: true, &quot;color&quot;: &quot;black&quot;, &quot;dashArray&quot;: null, &quot;dashOffset&quot;: null, &quot;fill&quot;: true, &quot;fillColor&quot;: [&quot;red&quot;], &quot;fillOpacity&quot;: 0.2, &quot;fillRule&quot;: &quot;evenodd&quot;, &quot;lineCap&quot;: &quot;round&quot;, &quot;lineJoin&quot;: &quot;round&quot;, &quot;opacity&quot;: 1.0, &quot;radius&quot;: 1000, &quot;stroke&quot;: true, &quot;weight&quot;: 3}\n",
       "            ).addTo(map_d6c7214afb0496da49d9b6467fca1e9d);\n",
       "        \n",
       "    \n",
       "            circle_187ed4064bad1660f852d485767ad165.bindTooltip(\n",
       "                `&lt;div&gt;\n",
       "                     NASA JSC\n",
       "                 &lt;/div&gt;`,\n",
       "                {&quot;sticky&quot;: true}\n",
       "            );\n",
       "        \n",
       "    \n",
       "        var popup_fc8635c3c13a96469f402632e4ea48c4 = L.popup({&quot;maxWidth&quot;: &quot;100%&quot;});\n",
       "\n",
       "        \n",
       "            \n",
       "                var html_d6a97ca26ad8a8fdcee3a4171a7e229b = $(`&lt;div id=&quot;html_d6a97ca26ad8a8fdcee3a4171a7e229b&quot; style=&quot;width: 100.0%; height: 100.0%;&quot;&gt;NASA JSC&lt;/div&gt;`)[0];\n",
       "                popup_fc8635c3c13a96469f402632e4ea48c4.setContent(html_d6a97ca26ad8a8fdcee3a4171a7e229b);\n",
       "            \n",
       "        \n",
       "\n",
       "        circle_187ed4064bad1660f852d485767ad165.bindPopup(popup_fc8635c3c13a96469f402632e4ea48c4)\n",
       "        ;\n",
       "\n",
       "        \n",
       "    \n",
       "    \n",
       "            var marker_cad2d26f270148ac910f3fa1e6348e81 = L.marker(\n",
       "                [29.559684888503615, -95.0830971930759],\n",
       "                {}\n",
       "            ).addTo(map_d6c7214afb0496da49d9b6467fca1e9d);\n",
       "        \n",
       "    \n",
       "            var div_icon_ecb0844cece70e1f61ad75b9264a205d = L.divIcon({&quot;className&quot;: &quot;empty&quot;, &quot;html&quot;: &quot;\\u003cdiv style=\\&quot;font-size: 12; color:red;\\&quot;\\u003e\\u003cb\\u003eNASA JSC\\u003c/b\\u003e\\u003c/div\\u003e&quot;, &quot;iconAnchor&quot;: [0, 0], &quot;iconSize&quot;: [20, 20]});\n",
       "            marker_cad2d26f270148ac910f3fa1e6348e81.setIcon(div_icon_ecb0844cece70e1f61ad75b9264a205d);\n",
       "        \n",
       "    \n",
       "            marker_cad2d26f270148ac910f3fa1e6348e81.bindTooltip(\n",
       "                `&lt;div&gt;\n",
       "                     NASA JSC\n",
       "                 &lt;/div&gt;`,\n",
       "                {&quot;sticky&quot;: true}\n",
       "            );\n",
       "        \n",
       "&lt;/script&gt;\n",
       "&lt;/html&gt;\" style=\"position:absolute;width:100%;height:100%;left:0;top:0;border:none !important;\" allowfullscreen webkitallowfullscreen mozallowfullscreen></iframe></div></div>"
      ],
      "text/plain": [
       "<folium.folium.Map at 0x30c726490>"
      ]
     },
     "execution_count": 72,
     "metadata": {},
     "output_type": "execute_result"
    }
   ],
   "source": [
    "# Create a Folium map object\n",
    "site_map = folium.Map(location=nasa_coordinate, zoom_start=4.4)\n",
    "\n",
    "# Create a function to draw circle and marker of each launch site\n",
    "def draw_site_position(df, folium_map):\n",
    "    \"\"\"\n",
    "    Visualize launch site position on a folium map by adding an area circle and a name marker\n",
    "    \n",
    "    Parameter:\n",
    "    - df (DataFrame): The data which consists of launch site name, its latitude and longitude position.\n",
    "    - folium_map (Folium map object): Created Folium map to be used to store and visualize launch site position.\n",
    "    \n",
    "    Return:\n",
    "    folium_map (Folium map object)\n",
    "        A folium map include the circles represent launch sites and text markers as site name label.\n",
    "    \n",
    "    \"\"\"\n",
    "    for site in df['LaunchSite']:\n",
    "        df1 = df[df['LaunchSite'] == site]\n",
    "        latitude, longitude = df1['Latitude'], df1['Longitude']\n",
    "        \n",
    "        # Set color based on the site name\n",
    "        if site == 'NASA JSC':\n",
    "            theme_color = 'red',\n",
    "            html_setting = '<div style=\"font-size: 12; color:red;\"><b>%s</b></div>' % f'{site}'\n",
    "        else:\n",
    "            theme_color = 'blue',\n",
    "            html_setting = '<div style=\"font-size: 12; color:blue;\"><b>%s</b></div>' % f'{site}'\n",
    "        \n",
    "        # Create a circle represents launch site\n",
    "        circle = folium.Circle(\n",
    "            location = [latitude, longitude], \n",
    "            radius = 1000, \n",
    "            color = 'black',\n",
    "            fill_color = theme_color, \n",
    "            fill = True,\n",
    "            tooltip = f'{site}'\n",
    "        ).add_child(folium.Popup(f'{site}'))\n",
    "\n",
    "        # Create marker as label for launch site name\n",
    "        marker = folium.Marker(\n",
    "            location = [latitude, longitude],\n",
    "            tooltip = f'{site}',\n",
    "            # Create an icon as a text label\n",
    "            icon = DivIcon(\n",
    "                icon_size = (20, 20),\n",
    "                icon_anchor = (0, 0),\n",
    "                html = html_setting,\n",
    "            )\n",
    "        )\n",
    "        folium_map.add_child(circle)\n",
    "        folium_map.add_child(marker)\n",
    "    return folium_map\n",
    "        \n",
    "# Generate folium plot\n",
    "draw_site_position(launch_sites, site_map)"
   ]
  },
  {
   "cell_type": "markdown",
   "metadata": {},
   "source": [
    "**Add `marker` object to show the total number of launches and successful/failed launches in each site:**\n",
    "- Create a Marker object by the coordinates in each row\n",
    "- Customize the Marker icon to indicate if the launch was successful or failed\n",
    "- Add the newly created `marker` object to existing `site_map`"
   ]
  },
  {
   "cell_type": "code",
   "execution_count": 73,
   "metadata": {},
   "outputs": [
    {
     "data": {
      "text/html": [
       "<div style=\"width:100%;\"><div style=\"position:relative;width:100%;height:0;padding-bottom:60%;\"><span style=\"color:#565656\">Make this Notebook Trusted to load map: File -> Trust Notebook</span><iframe srcdoc=\"&lt;!DOCTYPE html&gt;\n",
       "&lt;html&gt;\n",
       "&lt;head&gt;\n",
       "    \n",
       "    &lt;meta http-equiv=&quot;content-type&quot; content=&quot;text/html; charset=UTF-8&quot; /&gt;\n",
       "    \n",
       "        &lt;script&gt;\n",
       "            L_NO_TOUCH = false;\n",
       "            L_DISABLE_3D = false;\n",
       "        &lt;/script&gt;\n",
       "    \n",
       "    &lt;style&gt;html, body {width: 100%;height: 100%;margin: 0;padding: 0;}&lt;/style&gt;\n",
       "    &lt;style&gt;#map {position:absolute;top:0;bottom:0;right:0;left:0;}&lt;/style&gt;\n",
       "    &lt;script src=&quot;https://cdn.jsdelivr.net/npm/leaflet@1.9.3/dist/leaflet.js&quot;&gt;&lt;/script&gt;\n",
       "    &lt;script src=&quot;https://code.jquery.com/jquery-3.7.1.min.js&quot;&gt;&lt;/script&gt;\n",
       "    &lt;script src=&quot;https://cdn.jsdelivr.net/npm/bootstrap@5.2.2/dist/js/bootstrap.bundle.min.js&quot;&gt;&lt;/script&gt;\n",
       "    &lt;script src=&quot;https://cdnjs.cloudflare.com/ajax/libs/Leaflet.awesome-markers/2.0.2/leaflet.awesome-markers.js&quot;&gt;&lt;/script&gt;\n",
       "    &lt;link rel=&quot;stylesheet&quot; href=&quot;https://cdn.jsdelivr.net/npm/leaflet@1.9.3/dist/leaflet.css&quot;/&gt;\n",
       "    &lt;link rel=&quot;stylesheet&quot; href=&quot;https://cdn.jsdelivr.net/npm/bootstrap@5.2.2/dist/css/bootstrap.min.css&quot;/&gt;\n",
       "    &lt;link rel=&quot;stylesheet&quot; href=&quot;https://netdna.bootstrapcdn.com/bootstrap/3.0.0/css/bootstrap.min.css&quot;/&gt;\n",
       "    &lt;link rel=&quot;stylesheet&quot; href=&quot;https://cdn.jsdelivr.net/npm/@fortawesome/fontawesome-free@6.2.0/css/all.min.css&quot;/&gt;\n",
       "    &lt;link rel=&quot;stylesheet&quot; href=&quot;https://cdnjs.cloudflare.com/ajax/libs/Leaflet.awesome-markers/2.0.2/leaflet.awesome-markers.css&quot;/&gt;\n",
       "    &lt;link rel=&quot;stylesheet&quot; href=&quot;https://cdn.jsdelivr.net/gh/python-visualization/folium/folium/templates/leaflet.awesome.rotate.min.css&quot;/&gt;\n",
       "    \n",
       "            &lt;meta name=&quot;viewport&quot; content=&quot;width=device-width,\n",
       "                initial-scale=1.0, maximum-scale=1.0, user-scalable=no&quot; /&gt;\n",
       "            &lt;style&gt;\n",
       "                #map_d6c7214afb0496da49d9b6467fca1e9d {\n",
       "                    position: relative;\n",
       "                    width: 100.0%;\n",
       "                    height: 100.0%;\n",
       "                    left: 0.0%;\n",
       "                    top: 0.0%;\n",
       "                }\n",
       "                .leaflet-container { font-size: 1rem; }\n",
       "            &lt;/style&gt;\n",
       "        \n",
       "    &lt;script src=&quot;https://cdnjs.cloudflare.com/ajax/libs/leaflet.markercluster/1.1.0/leaflet.markercluster.js&quot;&gt;&lt;/script&gt;\n",
       "    &lt;link rel=&quot;stylesheet&quot; href=&quot;https://cdnjs.cloudflare.com/ajax/libs/leaflet.markercluster/1.1.0/MarkerCluster.css&quot;/&gt;\n",
       "    &lt;link rel=&quot;stylesheet&quot; href=&quot;https://cdnjs.cloudflare.com/ajax/libs/leaflet.markercluster/1.1.0/MarkerCluster.Default.css&quot;/&gt;\n",
       "&lt;/head&gt;\n",
       "&lt;body&gt;\n",
       "    \n",
       "    \n",
       "            &lt;div class=&quot;folium-map&quot; id=&quot;map_d6c7214afb0496da49d9b6467fca1e9d&quot; &gt;&lt;/div&gt;\n",
       "        \n",
       "&lt;/body&gt;\n",
       "&lt;script&gt;\n",
       "    \n",
       "    \n",
       "            var map_d6c7214afb0496da49d9b6467fca1e9d = L.map(\n",
       "                &quot;map_d6c7214afb0496da49d9b6467fca1e9d&quot;,\n",
       "                {\n",
       "                    center: [29.559684888503615, -95.0830971930759],\n",
       "                    crs: L.CRS.EPSG3857,\n",
       "                    zoom: 4.4,\n",
       "                    zoomControl: true,\n",
       "                    preferCanvas: false,\n",
       "                }\n",
       "            );\n",
       "\n",
       "            \n",
       "\n",
       "        \n",
       "    \n",
       "            var tile_layer_2b44c0f961e630afbcacb1e856781b98 = L.tileLayer(\n",
       "                &quot;https://tile.openstreetmap.org/{z}/{x}/{y}.png&quot;,\n",
       "                {&quot;attribution&quot;: &quot;\\u0026copy; \\u003ca href=\\&quot;https://www.openstreetmap.org/copyright\\&quot;\\u003eOpenStreetMap\\u003c/a\\u003e contributors&quot;, &quot;detectRetina&quot;: false, &quot;maxNativeZoom&quot;: 19, &quot;maxZoom&quot;: 19, &quot;minZoom&quot;: 0, &quot;noWrap&quot;: false, &quot;opacity&quot;: 1, &quot;subdomains&quot;: &quot;abc&quot;, &quot;tms&quot;: false}\n",
       "            );\n",
       "        \n",
       "    \n",
       "            tile_layer_2b44c0f961e630afbcacb1e856781b98.addTo(map_d6c7214afb0496da49d9b6467fca1e9d);\n",
       "        \n",
       "    \n",
       "            var circle_1916a47073b4961a96dfe810ce8a8412 = L.circle(\n",
       "                [28.5618571, -80.577366],\n",
       "                {&quot;bubblingMouseEvents&quot;: true, &quot;color&quot;: &quot;black&quot;, &quot;dashArray&quot;: null, &quot;dashOffset&quot;: null, &quot;fill&quot;: true, &quot;fillColor&quot;: [&quot;blue&quot;], &quot;fillOpacity&quot;: 0.2, &quot;fillRule&quot;: &quot;evenodd&quot;, &quot;lineCap&quot;: &quot;round&quot;, &quot;lineJoin&quot;: &quot;round&quot;, &quot;opacity&quot;: 1.0, &quot;radius&quot;: 1000, &quot;stroke&quot;: true, &quot;weight&quot;: 3}\n",
       "            ).addTo(map_d6c7214afb0496da49d9b6467fca1e9d);\n",
       "        \n",
       "    \n",
       "            circle_1916a47073b4961a96dfe810ce8a8412.bindTooltip(\n",
       "                `&lt;div&gt;\n",
       "                     CCSFS SLC 40\n",
       "                 &lt;/div&gt;`,\n",
       "                {&quot;sticky&quot;: true}\n",
       "            );\n",
       "        \n",
       "    \n",
       "        var popup_b7a390f4229074e7e56536716184b0b8 = L.popup({&quot;maxWidth&quot;: &quot;100%&quot;});\n",
       "\n",
       "        \n",
       "            \n",
       "                var html_0130b4df2b2e849e93a747b8a01a05e5 = $(`&lt;div id=&quot;html_0130b4df2b2e849e93a747b8a01a05e5&quot; style=&quot;width: 100.0%; height: 100.0%;&quot;&gt;CCSFS SLC 40&lt;/div&gt;`)[0];\n",
       "                popup_b7a390f4229074e7e56536716184b0b8.setContent(html_0130b4df2b2e849e93a747b8a01a05e5);\n",
       "            \n",
       "        \n",
       "\n",
       "        circle_1916a47073b4961a96dfe810ce8a8412.bindPopup(popup_b7a390f4229074e7e56536716184b0b8)\n",
       "        ;\n",
       "\n",
       "        \n",
       "    \n",
       "    \n",
       "            var marker_2c6bb775e098f543acbea4915a698b23 = L.marker(\n",
       "                [28.5618571, -80.577366],\n",
       "                {}\n",
       "            ).addTo(map_d6c7214afb0496da49d9b6467fca1e9d);\n",
       "        \n",
       "    \n",
       "            var div_icon_4b765fe5f39ba19de418846aa2d5d9cc = L.divIcon({&quot;className&quot;: &quot;empty&quot;, &quot;html&quot;: &quot;\\u003cdiv style=\\&quot;font-size: 12; color:blue;\\&quot;\\u003e\\u003cb\\u003eCCSFS SLC 40\\u003c/b\\u003e\\u003c/div\\u003e&quot;, &quot;iconAnchor&quot;: [0, 0], &quot;iconSize&quot;: [20, 20]});\n",
       "            marker_2c6bb775e098f543acbea4915a698b23.setIcon(div_icon_4b765fe5f39ba19de418846aa2d5d9cc);\n",
       "        \n",
       "    \n",
       "            marker_2c6bb775e098f543acbea4915a698b23.bindTooltip(\n",
       "                `&lt;div&gt;\n",
       "                     CCSFS SLC 40\n",
       "                 &lt;/div&gt;`,\n",
       "                {&quot;sticky&quot;: true}\n",
       "            );\n",
       "        \n",
       "    \n",
       "            var circle_1eb5d8f31486cbe3d54bdd07fd9952c2 = L.circle(\n",
       "                [28.6080585, -80.6039558],\n",
       "                {&quot;bubblingMouseEvents&quot;: true, &quot;color&quot;: &quot;black&quot;, &quot;dashArray&quot;: null, &quot;dashOffset&quot;: null, &quot;fill&quot;: true, &quot;fillColor&quot;: [&quot;blue&quot;], &quot;fillOpacity&quot;: 0.2, &quot;fillRule&quot;: &quot;evenodd&quot;, &quot;lineCap&quot;: &quot;round&quot;, &quot;lineJoin&quot;: &quot;round&quot;, &quot;opacity&quot;: 1.0, &quot;radius&quot;: 1000, &quot;stroke&quot;: true, &quot;weight&quot;: 3}\n",
       "            ).addTo(map_d6c7214afb0496da49d9b6467fca1e9d);\n",
       "        \n",
       "    \n",
       "            circle_1eb5d8f31486cbe3d54bdd07fd9952c2.bindTooltip(\n",
       "                `&lt;div&gt;\n",
       "                     KSC LC 39A\n",
       "                 &lt;/div&gt;`,\n",
       "                {&quot;sticky&quot;: true}\n",
       "            );\n",
       "        \n",
       "    \n",
       "        var popup_b2bcf09ffa72b1d519956e6d890b755c = L.popup({&quot;maxWidth&quot;: &quot;100%&quot;});\n",
       "\n",
       "        \n",
       "            \n",
       "                var html_8472289a67b94689c6a0927e242b0e94 = $(`&lt;div id=&quot;html_8472289a67b94689c6a0927e242b0e94&quot; style=&quot;width: 100.0%; height: 100.0%;&quot;&gt;KSC LC 39A&lt;/div&gt;`)[0];\n",
       "                popup_b2bcf09ffa72b1d519956e6d890b755c.setContent(html_8472289a67b94689c6a0927e242b0e94);\n",
       "            \n",
       "        \n",
       "\n",
       "        circle_1eb5d8f31486cbe3d54bdd07fd9952c2.bindPopup(popup_b2bcf09ffa72b1d519956e6d890b755c)\n",
       "        ;\n",
       "\n",
       "        \n",
       "    \n",
       "    \n",
       "            var marker_a2500e309fb1af4301100f1045eda7b8 = L.marker(\n",
       "                [28.6080585, -80.6039558],\n",
       "                {}\n",
       "            ).addTo(map_d6c7214afb0496da49d9b6467fca1e9d);\n",
       "        \n",
       "    \n",
       "            var div_icon_349c78815d789a4c9abc51ca8aeb71b8 = L.divIcon({&quot;className&quot;: &quot;empty&quot;, &quot;html&quot;: &quot;\\u003cdiv style=\\&quot;font-size: 12; color:blue;\\&quot;\\u003e\\u003cb\\u003eKSC LC 39A\\u003c/b\\u003e\\u003c/div\\u003e&quot;, &quot;iconAnchor&quot;: [0, 0], &quot;iconSize&quot;: [20, 20]});\n",
       "            marker_a2500e309fb1af4301100f1045eda7b8.setIcon(div_icon_349c78815d789a4c9abc51ca8aeb71b8);\n",
       "        \n",
       "    \n",
       "            marker_a2500e309fb1af4301100f1045eda7b8.bindTooltip(\n",
       "                `&lt;div&gt;\n",
       "                     KSC LC 39A\n",
       "                 &lt;/div&gt;`,\n",
       "                {&quot;sticky&quot;: true}\n",
       "            );\n",
       "        \n",
       "    \n",
       "            var circle_653c70e1efd5f038f2aa39837c651e66 = L.circle(\n",
       "                [34.632093, -120.610829],\n",
       "                {&quot;bubblingMouseEvents&quot;: true, &quot;color&quot;: &quot;black&quot;, &quot;dashArray&quot;: null, &quot;dashOffset&quot;: null, &quot;fill&quot;: true, &quot;fillColor&quot;: [&quot;blue&quot;], &quot;fillOpacity&quot;: 0.2, &quot;fillRule&quot;: &quot;evenodd&quot;, &quot;lineCap&quot;: &quot;round&quot;, &quot;lineJoin&quot;: &quot;round&quot;, &quot;opacity&quot;: 1.0, &quot;radius&quot;: 1000, &quot;stroke&quot;: true, &quot;weight&quot;: 3}\n",
       "            ).addTo(map_d6c7214afb0496da49d9b6467fca1e9d);\n",
       "        \n",
       "    \n",
       "            circle_653c70e1efd5f038f2aa39837c651e66.bindTooltip(\n",
       "                `&lt;div&gt;\n",
       "                     VAFB SLC 4E\n",
       "                 &lt;/div&gt;`,\n",
       "                {&quot;sticky&quot;: true}\n",
       "            );\n",
       "        \n",
       "    \n",
       "        var popup_951575f520ff159ed648b63d7da655a0 = L.popup({&quot;maxWidth&quot;: &quot;100%&quot;});\n",
       "\n",
       "        \n",
       "            \n",
       "                var html_0e76e70b5a86a4c8f1d05ce2ad59abd9 = $(`&lt;div id=&quot;html_0e76e70b5a86a4c8f1d05ce2ad59abd9&quot; style=&quot;width: 100.0%; height: 100.0%;&quot;&gt;VAFB SLC 4E&lt;/div&gt;`)[0];\n",
       "                popup_951575f520ff159ed648b63d7da655a0.setContent(html_0e76e70b5a86a4c8f1d05ce2ad59abd9);\n",
       "            \n",
       "        \n",
       "\n",
       "        circle_653c70e1efd5f038f2aa39837c651e66.bindPopup(popup_951575f520ff159ed648b63d7da655a0)\n",
       "        ;\n",
       "\n",
       "        \n",
       "    \n",
       "    \n",
       "            var marker_184bb70651a3e981239d9683712c3ce8 = L.marker(\n",
       "                [34.632093, -120.610829],\n",
       "                {}\n",
       "            ).addTo(map_d6c7214afb0496da49d9b6467fca1e9d);\n",
       "        \n",
       "    \n",
       "            var div_icon_ecf509e3d65e5ade127368e3f16dd27e = L.divIcon({&quot;className&quot;: &quot;empty&quot;, &quot;html&quot;: &quot;\\u003cdiv style=\\&quot;font-size: 12; color:blue;\\&quot;\\u003e\\u003cb\\u003eVAFB SLC 4E\\u003c/b\\u003e\\u003c/div\\u003e&quot;, &quot;iconAnchor&quot;: [0, 0], &quot;iconSize&quot;: [20, 20]});\n",
       "            marker_184bb70651a3e981239d9683712c3ce8.setIcon(div_icon_ecf509e3d65e5ade127368e3f16dd27e);\n",
       "        \n",
       "    \n",
       "            marker_184bb70651a3e981239d9683712c3ce8.bindTooltip(\n",
       "                `&lt;div&gt;\n",
       "                     VAFB SLC 4E\n",
       "                 &lt;/div&gt;`,\n",
       "                {&quot;sticky&quot;: true}\n",
       "            );\n",
       "        \n",
       "    \n",
       "            var circle_187ed4064bad1660f852d485767ad165 = L.circle(\n",
       "                [29.559684888503615, -95.0830971930759],\n",
       "                {&quot;bubblingMouseEvents&quot;: true, &quot;color&quot;: &quot;black&quot;, &quot;dashArray&quot;: null, &quot;dashOffset&quot;: null, &quot;fill&quot;: true, &quot;fillColor&quot;: [&quot;red&quot;], &quot;fillOpacity&quot;: 0.2, &quot;fillRule&quot;: &quot;evenodd&quot;, &quot;lineCap&quot;: &quot;round&quot;, &quot;lineJoin&quot;: &quot;round&quot;, &quot;opacity&quot;: 1.0, &quot;radius&quot;: 1000, &quot;stroke&quot;: true, &quot;weight&quot;: 3}\n",
       "            ).addTo(map_d6c7214afb0496da49d9b6467fca1e9d);\n",
       "        \n",
       "    \n",
       "            circle_187ed4064bad1660f852d485767ad165.bindTooltip(\n",
       "                `&lt;div&gt;\n",
       "                     NASA JSC\n",
       "                 &lt;/div&gt;`,\n",
       "                {&quot;sticky&quot;: true}\n",
       "            );\n",
       "        \n",
       "    \n",
       "        var popup_fc8635c3c13a96469f402632e4ea48c4 = L.popup({&quot;maxWidth&quot;: &quot;100%&quot;});\n",
       "\n",
       "        \n",
       "            \n",
       "                var html_d6a97ca26ad8a8fdcee3a4171a7e229b = $(`&lt;div id=&quot;html_d6a97ca26ad8a8fdcee3a4171a7e229b&quot; style=&quot;width: 100.0%; height: 100.0%;&quot;&gt;NASA JSC&lt;/div&gt;`)[0];\n",
       "                popup_fc8635c3c13a96469f402632e4ea48c4.setContent(html_d6a97ca26ad8a8fdcee3a4171a7e229b);\n",
       "            \n",
       "        \n",
       "\n",
       "        circle_187ed4064bad1660f852d485767ad165.bindPopup(popup_fc8635c3c13a96469f402632e4ea48c4)\n",
       "        ;\n",
       "\n",
       "        \n",
       "    \n",
       "    \n",
       "            var marker_cad2d26f270148ac910f3fa1e6348e81 = L.marker(\n",
       "                [29.559684888503615, -95.0830971930759],\n",
       "                {}\n",
       "            ).addTo(map_d6c7214afb0496da49d9b6467fca1e9d);\n",
       "        \n",
       "    \n",
       "            var div_icon_ecb0844cece70e1f61ad75b9264a205d = L.divIcon({&quot;className&quot;: &quot;empty&quot;, &quot;html&quot;: &quot;\\u003cdiv style=\\&quot;font-size: 12; color:red;\\&quot;\\u003e\\u003cb\\u003eNASA JSC\\u003c/b\\u003e\\u003c/div\\u003e&quot;, &quot;iconAnchor&quot;: [0, 0], &quot;iconSize&quot;: [20, 20]});\n",
       "            marker_cad2d26f270148ac910f3fa1e6348e81.setIcon(div_icon_ecb0844cece70e1f61ad75b9264a205d);\n",
       "        \n",
       "    \n",
       "            marker_cad2d26f270148ac910f3fa1e6348e81.bindTooltip(\n",
       "                `&lt;div&gt;\n",
       "                     NASA JSC\n",
       "                 &lt;/div&gt;`,\n",
       "                {&quot;sticky&quot;: true}\n",
       "            );\n",
       "        \n",
       "    \n",
       "            tile_layer_2b44c0f961e630afbcacb1e856781b98.addTo(map_d6c7214afb0496da49d9b6467fca1e9d);\n",
       "        \n",
       "    \n",
       "            var marker_cluster_b33ca8ec96422cb35b7d9cef52fae6bc = L.markerClusterGroup(\n",
       "                {}\n",
       "            );\n",
       "        \n",
       "    \n",
       "            var marker_b0bf60eea9b2a8adf209ed13946a5eaf = L.marker(\n",
       "                [28.5618571, -80.577366],\n",
       "                {}\n",
       "            ).addTo(marker_cluster_b33ca8ec96422cb35b7d9cef52fae6bc);\n",
       "        \n",
       "    \n",
       "            var icon_68cce1f43564f2597a5f283446a570c4 = L.AwesomeMarkers.icon(\n",
       "                {&quot;extraClasses&quot;: &quot;fa-rotate-0&quot;, &quot;icon&quot;: &quot;info-sign&quot;, &quot;iconColor&quot;: &quot;red&quot;, &quot;markerColor&quot;: &quot;white&quot;, &quot;prefix&quot;: &quot;glyphicon&quot;}\n",
       "            );\n",
       "            marker_b0bf60eea9b2a8adf209ed13946a5eaf.setIcon(icon_68cce1f43564f2597a5f283446a570c4);\n",
       "        \n",
       "    \n",
       "            var marker_552cc1421ff461dfd8ea62d645011c5a = L.marker(\n",
       "                [28.5618571, -80.577366],\n",
       "                {}\n",
       "            ).addTo(marker_cluster_b33ca8ec96422cb35b7d9cef52fae6bc);\n",
       "        \n",
       "    \n",
       "            var icon_51674654973122570e967a37e4959ea2 = L.AwesomeMarkers.icon(\n",
       "                {&quot;extraClasses&quot;: &quot;fa-rotate-0&quot;, &quot;icon&quot;: &quot;info-sign&quot;, &quot;iconColor&quot;: &quot;red&quot;, &quot;markerColor&quot;: &quot;white&quot;, &quot;prefix&quot;: &quot;glyphicon&quot;}\n",
       "            );\n",
       "            marker_552cc1421ff461dfd8ea62d645011c5a.setIcon(icon_51674654973122570e967a37e4959ea2);\n",
       "        \n",
       "    \n",
       "            var marker_40511f898dda047a51f22803ffdf510a = L.marker(\n",
       "                [28.5618571, -80.577366],\n",
       "                {}\n",
       "            ).addTo(marker_cluster_b33ca8ec96422cb35b7d9cef52fae6bc);\n",
       "        \n",
       "    \n",
       "            var icon_5f6ab3f19590dc7e464b10b5ab289e52 = L.AwesomeMarkers.icon(\n",
       "                {&quot;extraClasses&quot;: &quot;fa-rotate-0&quot;, &quot;icon&quot;: &quot;info-sign&quot;, &quot;iconColor&quot;: &quot;red&quot;, &quot;markerColor&quot;: &quot;white&quot;, &quot;prefix&quot;: &quot;glyphicon&quot;}\n",
       "            );\n",
       "            marker_40511f898dda047a51f22803ffdf510a.setIcon(icon_5f6ab3f19590dc7e464b10b5ab289e52);\n",
       "        \n",
       "    \n",
       "            var marker_6f72e7ae2c9e2fe3f1e3c8463d92fa09 = L.marker(\n",
       "                [34.632093, -120.610829],\n",
       "                {}\n",
       "            ).addTo(marker_cluster_b33ca8ec96422cb35b7d9cef52fae6bc);\n",
       "        \n",
       "    \n",
       "            var icon_7e44f4b2f8947aaadd35a42d97d50bd5 = L.AwesomeMarkers.icon(\n",
       "                {&quot;extraClasses&quot;: &quot;fa-rotate-0&quot;, &quot;icon&quot;: &quot;info-sign&quot;, &quot;iconColor&quot;: &quot;red&quot;, &quot;markerColor&quot;: &quot;white&quot;, &quot;prefix&quot;: &quot;glyphicon&quot;}\n",
       "            );\n",
       "            marker_6f72e7ae2c9e2fe3f1e3c8463d92fa09.setIcon(icon_7e44f4b2f8947aaadd35a42d97d50bd5);\n",
       "        \n",
       "    \n",
       "            var marker_9d37fba010a61ffe9543f9e3de602fcb = L.marker(\n",
       "                [28.5618571, -80.577366],\n",
       "                {}\n",
       "            ).addTo(marker_cluster_b33ca8ec96422cb35b7d9cef52fae6bc);\n",
       "        \n",
       "    \n",
       "            var icon_ef873348cc50682ba9ac054e26ee18a9 = L.AwesomeMarkers.icon(\n",
       "                {&quot;extraClasses&quot;: &quot;fa-rotate-0&quot;, &quot;icon&quot;: &quot;info-sign&quot;, &quot;iconColor&quot;: &quot;red&quot;, &quot;markerColor&quot;: &quot;white&quot;, &quot;prefix&quot;: &quot;glyphicon&quot;}\n",
       "            );\n",
       "            marker_9d37fba010a61ffe9543f9e3de602fcb.setIcon(icon_ef873348cc50682ba9ac054e26ee18a9);\n",
       "        \n",
       "    \n",
       "            var marker_f72f62d2a5e5a181618ac98b03d1a769 = L.marker(\n",
       "                [28.5618571, -80.577366],\n",
       "                {}\n",
       "            ).addTo(marker_cluster_b33ca8ec96422cb35b7d9cef52fae6bc);\n",
       "        \n",
       "    \n",
       "            var icon_9abf659e7fc302be98042565d82a1c2e = L.AwesomeMarkers.icon(\n",
       "                {&quot;extraClasses&quot;: &quot;fa-rotate-0&quot;, &quot;icon&quot;: &quot;info-sign&quot;, &quot;iconColor&quot;: &quot;red&quot;, &quot;markerColor&quot;: &quot;white&quot;, &quot;prefix&quot;: &quot;glyphicon&quot;}\n",
       "            );\n",
       "            marker_f72f62d2a5e5a181618ac98b03d1a769.setIcon(icon_9abf659e7fc302be98042565d82a1c2e);\n",
       "        \n",
       "    \n",
       "            var marker_d1f1ca83bd8f72c34017b6fbe32a44e4 = L.marker(\n",
       "                [28.5618571, -80.577366],\n",
       "                {}\n",
       "            ).addTo(marker_cluster_b33ca8ec96422cb35b7d9cef52fae6bc);\n",
       "        \n",
       "    \n",
       "            var icon_0bde81098c788d4d355c61992ba280d7 = L.AwesomeMarkers.icon(\n",
       "                {&quot;extraClasses&quot;: &quot;fa-rotate-0&quot;, &quot;icon&quot;: &quot;info-sign&quot;, &quot;iconColor&quot;: &quot;green&quot;, &quot;markerColor&quot;: &quot;white&quot;, &quot;prefix&quot;: &quot;glyphicon&quot;}\n",
       "            );\n",
       "            marker_d1f1ca83bd8f72c34017b6fbe32a44e4.setIcon(icon_0bde81098c788d4d355c61992ba280d7);\n",
       "        \n",
       "    \n",
       "            var marker_eac72b7d14b70b7822f5a34a565d73f3 = L.marker(\n",
       "                [28.5618571, -80.577366],\n",
       "                {}\n",
       "            ).addTo(marker_cluster_b33ca8ec96422cb35b7d9cef52fae6bc);\n",
       "        \n",
       "    \n",
       "            var icon_4a09863cecec13a23e9546fac043a997 = L.AwesomeMarkers.icon(\n",
       "                {&quot;extraClasses&quot;: &quot;fa-rotate-0&quot;, &quot;icon&quot;: &quot;info-sign&quot;, &quot;iconColor&quot;: &quot;green&quot;, &quot;markerColor&quot;: &quot;white&quot;, &quot;prefix&quot;: &quot;glyphicon&quot;}\n",
       "            );\n",
       "            marker_eac72b7d14b70b7822f5a34a565d73f3.setIcon(icon_4a09863cecec13a23e9546fac043a997);\n",
       "        \n",
       "    \n",
       "            var marker_483c4b7925f9a37e9277d95cd5624433 = L.marker(\n",
       "                [28.5618571, -80.577366],\n",
       "                {}\n",
       "            ).addTo(marker_cluster_b33ca8ec96422cb35b7d9cef52fae6bc);\n",
       "        \n",
       "    \n",
       "            var icon_9c89400f7b762c4649f32d65e3890493 = L.AwesomeMarkers.icon(\n",
       "                {&quot;extraClasses&quot;: &quot;fa-rotate-0&quot;, &quot;icon&quot;: &quot;info-sign&quot;, &quot;iconColor&quot;: &quot;red&quot;, &quot;markerColor&quot;: &quot;white&quot;, &quot;prefix&quot;: &quot;glyphicon&quot;}\n",
       "            );\n",
       "            marker_483c4b7925f9a37e9277d95cd5624433.setIcon(icon_9c89400f7b762c4649f32d65e3890493);\n",
       "        \n",
       "    \n",
       "            var marker_286923b824f6237cd35a01d5fa21ad87 = L.marker(\n",
       "                [28.5618571, -80.577366],\n",
       "                {}\n",
       "            ).addTo(marker_cluster_b33ca8ec96422cb35b7d9cef52fae6bc);\n",
       "        \n",
       "    \n",
       "            var icon_0eb569cefc5747e1ad97ca56f9fbfd8b = L.AwesomeMarkers.icon(\n",
       "                {&quot;extraClasses&quot;: &quot;fa-rotate-0&quot;, &quot;icon&quot;: &quot;info-sign&quot;, &quot;iconColor&quot;: &quot;red&quot;, &quot;markerColor&quot;: &quot;white&quot;, &quot;prefix&quot;: &quot;glyphicon&quot;}\n",
       "            );\n",
       "            marker_286923b824f6237cd35a01d5fa21ad87.setIcon(icon_0eb569cefc5747e1ad97ca56f9fbfd8b);\n",
       "        \n",
       "    \n",
       "            var marker_e650188ca02b51d68c01ff163ac56cbc = L.marker(\n",
       "                [28.5618571, -80.577366],\n",
       "                {}\n",
       "            ).addTo(marker_cluster_b33ca8ec96422cb35b7d9cef52fae6bc);\n",
       "        \n",
       "    \n",
       "            var icon_56c9b2fb431ae4d91da4cbeac487da98 = L.AwesomeMarkers.icon(\n",
       "                {&quot;extraClasses&quot;: &quot;fa-rotate-0&quot;, &quot;icon&quot;: &quot;info-sign&quot;, &quot;iconColor&quot;: &quot;red&quot;, &quot;markerColor&quot;: &quot;white&quot;, &quot;prefix&quot;: &quot;glyphicon&quot;}\n",
       "            );\n",
       "            marker_e650188ca02b51d68c01ff163ac56cbc.setIcon(icon_56c9b2fb431ae4d91da4cbeac487da98);\n",
       "        \n",
       "    \n",
       "            var marker_bbcfcc4c9db45b49624adfe33555f3f8 = L.marker(\n",
       "                [28.5618571, -80.577366],\n",
       "                {}\n",
       "            ).addTo(marker_cluster_b33ca8ec96422cb35b7d9cef52fae6bc);\n",
       "        \n",
       "    \n",
       "            var icon_e0362329fb1144e7db37d6f598490fc9 = L.AwesomeMarkers.icon(\n",
       "                {&quot;extraClasses&quot;: &quot;fa-rotate-0&quot;, &quot;icon&quot;: &quot;info-sign&quot;, &quot;iconColor&quot;: &quot;red&quot;, &quot;markerColor&quot;: &quot;white&quot;, &quot;prefix&quot;: &quot;glyphicon&quot;}\n",
       "            );\n",
       "            marker_bbcfcc4c9db45b49624adfe33555f3f8.setIcon(icon_e0362329fb1144e7db37d6f598490fc9);\n",
       "        \n",
       "    \n",
       "            var marker_026bb2510f3fc046ebcbb0b56754baab = L.marker(\n",
       "                [28.5618571, -80.577366],\n",
       "                {}\n",
       "            ).addTo(marker_cluster_b33ca8ec96422cb35b7d9cef52fae6bc);\n",
       "        \n",
       "    \n",
       "            var icon_1431da6aaa25563265ce9aa0d646dd38 = L.AwesomeMarkers.icon(\n",
       "                {&quot;extraClasses&quot;: &quot;fa-rotate-0&quot;, &quot;icon&quot;: &quot;info-sign&quot;, &quot;iconColor&quot;: &quot;green&quot;, &quot;markerColor&quot;: &quot;white&quot;, &quot;prefix&quot;: &quot;glyphicon&quot;}\n",
       "            );\n",
       "            marker_026bb2510f3fc046ebcbb0b56754baab.setIcon(icon_1431da6aaa25563265ce9aa0d646dd38);\n",
       "        \n",
       "    \n",
       "            var marker_7caa5f497bc59fd336f70d8e2df0e31e = L.marker(\n",
       "                [28.5618571, -80.577366],\n",
       "                {}\n",
       "            ).addTo(marker_cluster_b33ca8ec96422cb35b7d9cef52fae6bc);\n",
       "        \n",
       "    \n",
       "            var icon_94227f9b4853468a259bec1fa8b511bd = L.AwesomeMarkers.icon(\n",
       "                {&quot;extraClasses&quot;: &quot;fa-rotate-0&quot;, &quot;icon&quot;: &quot;info-sign&quot;, &quot;iconColor&quot;: &quot;red&quot;, &quot;markerColor&quot;: &quot;white&quot;, &quot;prefix&quot;: &quot;glyphicon&quot;}\n",
       "            );\n",
       "            marker_7caa5f497bc59fd336f70d8e2df0e31e.setIcon(icon_94227f9b4853468a259bec1fa8b511bd);\n",
       "        \n",
       "    \n",
       "            var marker_2170b1b10e547f33d95579fd626d2097 = L.marker(\n",
       "                [28.5618571, -80.577366],\n",
       "                {}\n",
       "            ).addTo(marker_cluster_b33ca8ec96422cb35b7d9cef52fae6bc);\n",
       "        \n",
       "    \n",
       "            var icon_6a4ab547143446af190638a6971257c9 = L.AwesomeMarkers.icon(\n",
       "                {&quot;extraClasses&quot;: &quot;fa-rotate-0&quot;, &quot;icon&quot;: &quot;info-sign&quot;, &quot;iconColor&quot;: &quot;red&quot;, &quot;markerColor&quot;: &quot;white&quot;, &quot;prefix&quot;: &quot;glyphicon&quot;}\n",
       "            );\n",
       "            marker_2170b1b10e547f33d95579fd626d2097.setIcon(icon_6a4ab547143446af190638a6971257c9);\n",
       "        \n",
       "    \n",
       "            var marker_5c63ef422265d8bfc9ad1a6ca81aa877 = L.marker(\n",
       "                [28.5618571, -80.577366],\n",
       "                {}\n",
       "            ).addTo(marker_cluster_b33ca8ec96422cb35b7d9cef52fae6bc);\n",
       "        \n",
       "    \n",
       "            var icon_6cd0e199c4872c320b88ec656e5b3ac4 = L.AwesomeMarkers.icon(\n",
       "                {&quot;extraClasses&quot;: &quot;fa-rotate-0&quot;, &quot;icon&quot;: &quot;info-sign&quot;, &quot;iconColor&quot;: &quot;red&quot;, &quot;markerColor&quot;: &quot;white&quot;, &quot;prefix&quot;: &quot;glyphicon&quot;}\n",
       "            );\n",
       "            marker_5c63ef422265d8bfc9ad1a6ca81aa877.setIcon(icon_6cd0e199c4872c320b88ec656e5b3ac4);\n",
       "        \n",
       "    \n",
       "            var marker_aec9ccef7d7691e95e35fd3b9d8d5bbe = L.marker(\n",
       "                [28.5618571, -80.577366],\n",
       "                {}\n",
       "            ).addTo(marker_cluster_b33ca8ec96422cb35b7d9cef52fae6bc);\n",
       "        \n",
       "    \n",
       "            var icon_6419552be5a2d49e30aa3a10187f31ac = L.AwesomeMarkers.icon(\n",
       "                {&quot;extraClasses&quot;: &quot;fa-rotate-0&quot;, &quot;icon&quot;: &quot;info-sign&quot;, &quot;iconColor&quot;: &quot;green&quot;, &quot;markerColor&quot;: &quot;white&quot;, &quot;prefix&quot;: &quot;glyphicon&quot;}\n",
       "            );\n",
       "            marker_aec9ccef7d7691e95e35fd3b9d8d5bbe.setIcon(icon_6419552be5a2d49e30aa3a10187f31ac);\n",
       "        \n",
       "    \n",
       "            var marker_ced9e6e9e8f9e618910c465d44afccfd = L.marker(\n",
       "                [34.632093, -120.610829],\n",
       "                {}\n",
       "            ).addTo(marker_cluster_b33ca8ec96422cb35b7d9cef52fae6bc);\n",
       "        \n",
       "    \n",
       "            var icon_6d1bcd2accefb3d29fef2cf664ac4aad = L.AwesomeMarkers.icon(\n",
       "                {&quot;extraClasses&quot;: &quot;fa-rotate-0&quot;, &quot;icon&quot;: &quot;info-sign&quot;, &quot;iconColor&quot;: &quot;red&quot;, &quot;markerColor&quot;: &quot;white&quot;, &quot;prefix&quot;: &quot;glyphicon&quot;}\n",
       "            );\n",
       "            marker_ced9e6e9e8f9e618910c465d44afccfd.setIcon(icon_6d1bcd2accefb3d29fef2cf664ac4aad);\n",
       "        \n",
       "    \n",
       "            var marker_27e9d2632221074a2e0cb7a9cd3040fc = L.marker(\n",
       "                [28.5618571, -80.577366],\n",
       "                {}\n",
       "            ).addTo(marker_cluster_b33ca8ec96422cb35b7d9cef52fae6bc);\n",
       "        \n",
       "    \n",
       "            var icon_3caae8f75d2afa4ae9e27022c3dff6a9 = L.AwesomeMarkers.icon(\n",
       "                {&quot;extraClasses&quot;: &quot;fa-rotate-0&quot;, &quot;icon&quot;: &quot;info-sign&quot;, &quot;iconColor&quot;: &quot;red&quot;, &quot;markerColor&quot;: &quot;white&quot;, &quot;prefix&quot;: &quot;glyphicon&quot;}\n",
       "            );\n",
       "            marker_27e9d2632221074a2e0cb7a9cd3040fc.setIcon(icon_3caae8f75d2afa4ae9e27022c3dff6a9);\n",
       "        \n",
       "    \n",
       "            var marker_d205d49b8a990eb4f30c4fbc49b34e23 = L.marker(\n",
       "                [28.5618571, -80.577366],\n",
       "                {}\n",
       "            ).addTo(marker_cluster_b33ca8ec96422cb35b7d9cef52fae6bc);\n",
       "        \n",
       "    \n",
       "            var icon_f3fb552c9c457277383219a902ace608 = L.AwesomeMarkers.icon(\n",
       "                {&quot;extraClasses&quot;: &quot;fa-rotate-0&quot;, &quot;icon&quot;: &quot;info-sign&quot;, &quot;iconColor&quot;: &quot;green&quot;, &quot;markerColor&quot;: &quot;white&quot;, &quot;prefix&quot;: &quot;glyphicon&quot;}\n",
       "            );\n",
       "            marker_d205d49b8a990eb4f30c4fbc49b34e23.setIcon(icon_f3fb552c9c457277383219a902ace608);\n",
       "        \n",
       "    \n",
       "            var marker_9d8f5dca8ffd8bbc03664b4f71f08587 = L.marker(\n",
       "                [28.5618571, -80.577366],\n",
       "                {}\n",
       "            ).addTo(marker_cluster_b33ca8ec96422cb35b7d9cef52fae6bc);\n",
       "        \n",
       "    \n",
       "            var icon_5ca39b6d654accf422b5f58edb32eb52 = L.AwesomeMarkers.icon(\n",
       "                {&quot;extraClasses&quot;: &quot;fa-rotate-0&quot;, &quot;icon&quot;: &quot;info-sign&quot;, &quot;iconColor&quot;: &quot;green&quot;, &quot;markerColor&quot;: &quot;white&quot;, &quot;prefix&quot;: &quot;glyphicon&quot;}\n",
       "            );\n",
       "            marker_9d8f5dca8ffd8bbc03664b4f71f08587.setIcon(icon_5ca39b6d654accf422b5f58edb32eb52);\n",
       "        \n",
       "    \n",
       "            var marker_ae2144610163f887e187c15d8d677e51 = L.marker(\n",
       "                [28.5618571, -80.577366],\n",
       "                {}\n",
       "            ).addTo(marker_cluster_b33ca8ec96422cb35b7d9cef52fae6bc);\n",
       "        \n",
       "    \n",
       "            var icon_dd92672f6cd7cb23e4f6605aa89963c3 = L.AwesomeMarkers.icon(\n",
       "                {&quot;extraClasses&quot;: &quot;fa-rotate-0&quot;, &quot;icon&quot;: &quot;info-sign&quot;, &quot;iconColor&quot;: &quot;green&quot;, &quot;markerColor&quot;: &quot;white&quot;, &quot;prefix&quot;: &quot;glyphicon&quot;}\n",
       "            );\n",
       "            marker_ae2144610163f887e187c15d8d677e51.setIcon(icon_dd92672f6cd7cb23e4f6605aa89963c3);\n",
       "        \n",
       "    \n",
       "            var marker_e104177282a4944d19895381ad7a8afd = L.marker(\n",
       "                [28.5618571, -80.577366],\n",
       "                {}\n",
       "            ).addTo(marker_cluster_b33ca8ec96422cb35b7d9cef52fae6bc);\n",
       "        \n",
       "    \n",
       "            var icon_0e3c16e36e72aaa2946031a612420194 = L.AwesomeMarkers.icon(\n",
       "                {&quot;extraClasses&quot;: &quot;fa-rotate-0&quot;, &quot;icon&quot;: &quot;info-sign&quot;, &quot;iconColor&quot;: &quot;green&quot;, &quot;markerColor&quot;: &quot;white&quot;, &quot;prefix&quot;: &quot;glyphicon&quot;}\n",
       "            );\n",
       "            marker_e104177282a4944d19895381ad7a8afd.setIcon(icon_0e3c16e36e72aaa2946031a612420194);\n",
       "        \n",
       "    \n",
       "            var marker_a1b308dd4cde685eec62b0e1bc931a98 = L.marker(\n",
       "                [28.5618571, -80.577366],\n",
       "                {}\n",
       "            ).addTo(marker_cluster_b33ca8ec96422cb35b7d9cef52fae6bc);\n",
       "        \n",
       "    \n",
       "            var icon_1b5fb0cecdbf3a6c80c7a3ad03f14689 = L.AwesomeMarkers.icon(\n",
       "                {&quot;extraClasses&quot;: &quot;fa-rotate-0&quot;, &quot;icon&quot;: &quot;info-sign&quot;, &quot;iconColor&quot;: &quot;green&quot;, &quot;markerColor&quot;: &quot;white&quot;, &quot;prefix&quot;: &quot;glyphicon&quot;}\n",
       "            );\n",
       "            marker_a1b308dd4cde685eec62b0e1bc931a98.setIcon(icon_1b5fb0cecdbf3a6c80c7a3ad03f14689);\n",
       "        \n",
       "    \n",
       "            var marker_3cff575c2f269500a8af717437332233 = L.marker(\n",
       "                [28.5618571, -80.577366],\n",
       "                {}\n",
       "            ).addTo(marker_cluster_b33ca8ec96422cb35b7d9cef52fae6bc);\n",
       "        \n",
       "    \n",
       "            var icon_4335a04c743bb08bc8a5007344ab2f10 = L.AwesomeMarkers.icon(\n",
       "                {&quot;extraClasses&quot;: &quot;fa-rotate-0&quot;, &quot;icon&quot;: &quot;info-sign&quot;, &quot;iconColor&quot;: &quot;red&quot;, &quot;markerColor&quot;: &quot;white&quot;, &quot;prefix&quot;: &quot;glyphicon&quot;}\n",
       "            );\n",
       "            marker_3cff575c2f269500a8af717437332233.setIcon(icon_4335a04c743bb08bc8a5007344ab2f10);\n",
       "        \n",
       "    \n",
       "            var marker_cf3f2c55ca903294d592236ff55c4e15 = L.marker(\n",
       "                [34.632093, -120.610829],\n",
       "                {}\n",
       "            ).addTo(marker_cluster_b33ca8ec96422cb35b7d9cef52fae6bc);\n",
       "        \n",
       "    \n",
       "            var icon_0de88509d9209a793d54aeed3ccdc303 = L.AwesomeMarkers.icon(\n",
       "                {&quot;extraClasses&quot;: &quot;fa-rotate-0&quot;, &quot;icon&quot;: &quot;info-sign&quot;, &quot;iconColor&quot;: &quot;green&quot;, &quot;markerColor&quot;: &quot;white&quot;, &quot;prefix&quot;: &quot;glyphicon&quot;}\n",
       "            );\n",
       "            marker_cf3f2c55ca903294d592236ff55c4e15.setIcon(icon_0de88509d9209a793d54aeed3ccdc303);\n",
       "        \n",
       "    \n",
       "            var marker_a641aa260bbdcb30f6f3364bee8ff42c = L.marker(\n",
       "                [28.6080585, -80.6039558],\n",
       "                {}\n",
       "            ).addTo(marker_cluster_b33ca8ec96422cb35b7d9cef52fae6bc);\n",
       "        \n",
       "    \n",
       "            var icon_12fad55b4a8a6ef336b83f153f8117e5 = L.AwesomeMarkers.icon(\n",
       "                {&quot;extraClasses&quot;: &quot;fa-rotate-0&quot;, &quot;icon&quot;: &quot;info-sign&quot;, &quot;iconColor&quot;: &quot;green&quot;, &quot;markerColor&quot;: &quot;white&quot;, &quot;prefix&quot;: &quot;glyphicon&quot;}\n",
       "            );\n",
       "            marker_a641aa260bbdcb30f6f3364bee8ff42c.setIcon(icon_12fad55b4a8a6ef336b83f153f8117e5);\n",
       "        \n",
       "    \n",
       "            var marker_7085e32bccd24e147e12ba3eca572c47 = L.marker(\n",
       "                [28.6080585, -80.6039558],\n",
       "                {}\n",
       "            ).addTo(marker_cluster_b33ca8ec96422cb35b7d9cef52fae6bc);\n",
       "        \n",
       "    \n",
       "            var icon_eb1223b7897bb2db28596915b1c10ecd = L.AwesomeMarkers.icon(\n",
       "                {&quot;extraClasses&quot;: &quot;fa-rotate-0&quot;, &quot;icon&quot;: &quot;info-sign&quot;, &quot;iconColor&quot;: &quot;red&quot;, &quot;markerColor&quot;: &quot;white&quot;, &quot;prefix&quot;: &quot;glyphicon&quot;}\n",
       "            );\n",
       "            marker_7085e32bccd24e147e12ba3eca572c47.setIcon(icon_eb1223b7897bb2db28596915b1c10ecd);\n",
       "        \n",
       "    \n",
       "            var marker_90c5ff9cda1549f595ece905aea01786 = L.marker(\n",
       "                [28.6080585, -80.6039558],\n",
       "                {}\n",
       "            ).addTo(marker_cluster_b33ca8ec96422cb35b7d9cef52fae6bc);\n",
       "        \n",
       "    \n",
       "            var icon_04027190263e8bece99e7858a3731d16 = L.AwesomeMarkers.icon(\n",
       "                {&quot;extraClasses&quot;: &quot;fa-rotate-0&quot;, &quot;icon&quot;: &quot;info-sign&quot;, &quot;iconColor&quot;: &quot;green&quot;, &quot;markerColor&quot;: &quot;white&quot;, &quot;prefix&quot;: &quot;glyphicon&quot;}\n",
       "            );\n",
       "            marker_90c5ff9cda1549f595ece905aea01786.setIcon(icon_04027190263e8bece99e7858a3731d16);\n",
       "        \n",
       "    \n",
       "            var marker_ed3176ed687a733d8b90945c0efe031a = L.marker(\n",
       "                [28.6080585, -80.6039558],\n",
       "                {}\n",
       "            ).addTo(marker_cluster_b33ca8ec96422cb35b7d9cef52fae6bc);\n",
       "        \n",
       "    \n",
       "            var icon_f0512a4f1e3197c9a99fec369e044009 = L.AwesomeMarkers.icon(\n",
       "                {&quot;extraClasses&quot;: &quot;fa-rotate-0&quot;, &quot;icon&quot;: &quot;info-sign&quot;, &quot;iconColor&quot;: &quot;green&quot;, &quot;markerColor&quot;: &quot;white&quot;, &quot;prefix&quot;: &quot;glyphicon&quot;}\n",
       "            );\n",
       "            marker_ed3176ed687a733d8b90945c0efe031a.setIcon(icon_f0512a4f1e3197c9a99fec369e044009);\n",
       "        \n",
       "    \n",
       "            var marker_b0c4bd04aaef2b0457b361c2d438a3ce = L.marker(\n",
       "                [28.6080585, -80.6039558],\n",
       "                {}\n",
       "            ).addTo(marker_cluster_b33ca8ec96422cb35b7d9cef52fae6bc);\n",
       "        \n",
       "    \n",
       "            var icon_4125c4dd25dc44eee444593a3a32b76a = L.AwesomeMarkers.icon(\n",
       "                {&quot;extraClasses&quot;: &quot;fa-rotate-0&quot;, &quot;icon&quot;: &quot;info-sign&quot;, &quot;iconColor&quot;: &quot;red&quot;, &quot;markerColor&quot;: &quot;white&quot;, &quot;prefix&quot;: &quot;glyphicon&quot;}\n",
       "            );\n",
       "            marker_b0c4bd04aaef2b0457b361c2d438a3ce.setIcon(icon_4125c4dd25dc44eee444593a3a32b76a);\n",
       "        \n",
       "    \n",
       "            var marker_714295bb4077085bb00b63ab6563c9c9 = L.marker(\n",
       "                [28.6080585, -80.6039558],\n",
       "                {}\n",
       "            ).addTo(marker_cluster_b33ca8ec96422cb35b7d9cef52fae6bc);\n",
       "        \n",
       "    \n",
       "            var icon_c8a50cae67499392bfbfabd190d0a324 = L.AwesomeMarkers.icon(\n",
       "                {&quot;extraClasses&quot;: &quot;fa-rotate-0&quot;, &quot;icon&quot;: &quot;info-sign&quot;, &quot;iconColor&quot;: &quot;green&quot;, &quot;markerColor&quot;: &quot;white&quot;, &quot;prefix&quot;: &quot;glyphicon&quot;}\n",
       "            );\n",
       "            marker_714295bb4077085bb00b63ab6563c9c9.setIcon(icon_c8a50cae67499392bfbfabd190d0a324);\n",
       "        \n",
       "    \n",
       "            var marker_685a3144169ed1c0bb5e035ca3217563 = L.marker(\n",
       "                [28.6080585, -80.6039558],\n",
       "                {}\n",
       "            ).addTo(marker_cluster_b33ca8ec96422cb35b7d9cef52fae6bc);\n",
       "        \n",
       "    \n",
       "            var icon_520cd8145a96a9cbe4e3c9f88f89e4fb = L.AwesomeMarkers.icon(\n",
       "                {&quot;extraClasses&quot;: &quot;fa-rotate-0&quot;, &quot;icon&quot;: &quot;info-sign&quot;, &quot;iconColor&quot;: &quot;green&quot;, &quot;markerColor&quot;: &quot;white&quot;, &quot;prefix&quot;: &quot;glyphicon&quot;}\n",
       "            );\n",
       "            marker_685a3144169ed1c0bb5e035ca3217563.setIcon(icon_520cd8145a96a9cbe4e3c9f88f89e4fb);\n",
       "        \n",
       "    \n",
       "            var marker_7ee2a266f54003e038de6b99d9c35a5a = L.marker(\n",
       "                [34.632093, -120.610829],\n",
       "                {}\n",
       "            ).addTo(marker_cluster_b33ca8ec96422cb35b7d9cef52fae6bc);\n",
       "        \n",
       "    \n",
       "            var icon_de77f4868144ff400ca051083af88af8 = L.AwesomeMarkers.icon(\n",
       "                {&quot;extraClasses&quot;: &quot;fa-rotate-0&quot;, &quot;icon&quot;: &quot;info-sign&quot;, &quot;iconColor&quot;: &quot;green&quot;, &quot;markerColor&quot;: &quot;white&quot;, &quot;prefix&quot;: &quot;glyphicon&quot;}\n",
       "            );\n",
       "            marker_7ee2a266f54003e038de6b99d9c35a5a.setIcon(icon_de77f4868144ff400ca051083af88af8);\n",
       "        \n",
       "    \n",
       "            var marker_045757873eaa1851900a438040723fd9 = L.marker(\n",
       "                [28.6080585, -80.6039558],\n",
       "                {}\n",
       "            ).addTo(marker_cluster_b33ca8ec96422cb35b7d9cef52fae6bc);\n",
       "        \n",
       "    \n",
       "            var icon_947ddeb30c075934bd8816f7b7483937 = L.AwesomeMarkers.icon(\n",
       "                {&quot;extraClasses&quot;: &quot;fa-rotate-0&quot;, &quot;icon&quot;: &quot;info-sign&quot;, &quot;iconColor&quot;: &quot;red&quot;, &quot;markerColor&quot;: &quot;white&quot;, &quot;prefix&quot;: &quot;glyphicon&quot;}\n",
       "            );\n",
       "            marker_045757873eaa1851900a438040723fd9.setIcon(icon_947ddeb30c075934bd8816f7b7483937);\n",
       "        \n",
       "    \n",
       "            var marker_94154718bb6cd254586dd55cc42c103a = L.marker(\n",
       "                [28.6080585, -80.6039558],\n",
       "                {}\n",
       "            ).addTo(marker_cluster_b33ca8ec96422cb35b7d9cef52fae6bc);\n",
       "        \n",
       "    \n",
       "            var icon_9bb29cd6a773db88ab1af5a08703398f = L.AwesomeMarkers.icon(\n",
       "                {&quot;extraClasses&quot;: &quot;fa-rotate-0&quot;, &quot;icon&quot;: &quot;info-sign&quot;, &quot;iconColor&quot;: &quot;green&quot;, &quot;markerColor&quot;: &quot;white&quot;, &quot;prefix&quot;: &quot;glyphicon&quot;}\n",
       "            );\n",
       "            marker_94154718bb6cd254586dd55cc42c103a.setIcon(icon_9bb29cd6a773db88ab1af5a08703398f);\n",
       "        \n",
       "    \n",
       "            var marker_50cb9c5e2e5d701beacd024c018c997b = L.marker(\n",
       "                [34.632093, -120.610829],\n",
       "                {}\n",
       "            ).addTo(marker_cluster_b33ca8ec96422cb35b7d9cef52fae6bc);\n",
       "        \n",
       "    \n",
       "            var icon_883a56f301343d81d80ed4eded734744 = L.AwesomeMarkers.icon(\n",
       "                {&quot;extraClasses&quot;: &quot;fa-rotate-0&quot;, &quot;icon&quot;: &quot;info-sign&quot;, &quot;iconColor&quot;: &quot;green&quot;, &quot;markerColor&quot;: &quot;white&quot;, &quot;prefix&quot;: &quot;glyphicon&quot;}\n",
       "            );\n",
       "            marker_50cb9c5e2e5d701beacd024c018c997b.setIcon(icon_883a56f301343d81d80ed4eded734744);\n",
       "        \n",
       "    \n",
       "            var marker_ab21a4bd84391cfb7f77fe023267c30d = L.marker(\n",
       "                [28.6080585, -80.6039558],\n",
       "                {}\n",
       "            ).addTo(marker_cluster_b33ca8ec96422cb35b7d9cef52fae6bc);\n",
       "        \n",
       "    \n",
       "            var icon_9e059ea5d01b4b7fc4a1935506964592 = L.AwesomeMarkers.icon(\n",
       "                {&quot;extraClasses&quot;: &quot;fa-rotate-0&quot;, &quot;icon&quot;: &quot;info-sign&quot;, &quot;iconColor&quot;: &quot;green&quot;, &quot;markerColor&quot;: &quot;white&quot;, &quot;prefix&quot;: &quot;glyphicon&quot;}\n",
       "            );\n",
       "            marker_ab21a4bd84391cfb7f77fe023267c30d.setIcon(icon_9e059ea5d01b4b7fc4a1935506964592);\n",
       "        \n",
       "    \n",
       "            var marker_5ae511f6f5a16d6ce607cd985c16a887 = L.marker(\n",
       "                [34.632093, -120.610829],\n",
       "                {}\n",
       "            ).addTo(marker_cluster_b33ca8ec96422cb35b7d9cef52fae6bc);\n",
       "        \n",
       "    \n",
       "            var icon_6f3fefaceb753d68550ef990049e5564 = L.AwesomeMarkers.icon(\n",
       "                {&quot;extraClasses&quot;: &quot;fa-rotate-0&quot;, &quot;icon&quot;: &quot;info-sign&quot;, &quot;iconColor&quot;: &quot;green&quot;, &quot;markerColor&quot;: &quot;white&quot;, &quot;prefix&quot;: &quot;glyphicon&quot;}\n",
       "            );\n",
       "            marker_5ae511f6f5a16d6ce607cd985c16a887.setIcon(icon_6f3fefaceb753d68550ef990049e5564);\n",
       "        \n",
       "    \n",
       "            var marker_96d9a25cbfa7211ba6d0485c19c69d5a = L.marker(\n",
       "                [28.6080585, -80.6039558],\n",
       "                {}\n",
       "            ).addTo(marker_cluster_b33ca8ec96422cb35b7d9cef52fae6bc);\n",
       "        \n",
       "    \n",
       "            var icon_1907d987f218bded989a86d9a18ed36c = L.AwesomeMarkers.icon(\n",
       "                {&quot;extraClasses&quot;: &quot;fa-rotate-0&quot;, &quot;icon&quot;: &quot;info-sign&quot;, &quot;iconColor&quot;: &quot;green&quot;, &quot;markerColor&quot;: &quot;white&quot;, &quot;prefix&quot;: &quot;glyphicon&quot;}\n",
       "            );\n",
       "            marker_96d9a25cbfa7211ba6d0485c19c69d5a.setIcon(icon_1907d987f218bded989a86d9a18ed36c);\n",
       "        \n",
       "    \n",
       "            var marker_6508f2d55d35acc16850de4f96a171a4 = L.marker(\n",
       "                [28.6080585, -80.6039558],\n",
       "                {}\n",
       "            ).addTo(marker_cluster_b33ca8ec96422cb35b7d9cef52fae6bc);\n",
       "        \n",
       "    \n",
       "            var icon_bf3ad601cc13013e34ad96cb151d4807 = L.AwesomeMarkers.icon(\n",
       "                {&quot;extraClasses&quot;: &quot;fa-rotate-0&quot;, &quot;icon&quot;: &quot;info-sign&quot;, &quot;iconColor&quot;: &quot;green&quot;, &quot;markerColor&quot;: &quot;white&quot;, &quot;prefix&quot;: &quot;glyphicon&quot;}\n",
       "            );\n",
       "            marker_6508f2d55d35acc16850de4f96a171a4.setIcon(icon_bf3ad601cc13013e34ad96cb151d4807);\n",
       "        \n",
       "    \n",
       "            var marker_02e1fbb1e544eadfa92d75ebf68739d4 = L.marker(\n",
       "                [28.5618571, -80.577366],\n",
       "                {}\n",
       "            ).addTo(marker_cluster_b33ca8ec96422cb35b7d9cef52fae6bc);\n",
       "        \n",
       "    \n",
       "            var icon_c6c51271ffa5e111ff630cde6bc40a1a = L.AwesomeMarkers.icon(\n",
       "                {&quot;extraClasses&quot;: &quot;fa-rotate-0&quot;, &quot;icon&quot;: &quot;info-sign&quot;, &quot;iconColor&quot;: &quot;green&quot;, &quot;markerColor&quot;: &quot;white&quot;, &quot;prefix&quot;: &quot;glyphicon&quot;}\n",
       "            );\n",
       "            marker_02e1fbb1e544eadfa92d75ebf68739d4.setIcon(icon_c6c51271ffa5e111ff630cde6bc40a1a);\n",
       "        \n",
       "    \n",
       "            var marker_d93abd330539b3721f1468118479bfb0 = L.marker(\n",
       "                [34.632093, -120.610829],\n",
       "                {}\n",
       "            ).addTo(marker_cluster_b33ca8ec96422cb35b7d9cef52fae6bc);\n",
       "        \n",
       "    \n",
       "            var icon_853b07a7b7a2e352564f888c5fba2722 = L.AwesomeMarkers.icon(\n",
       "                {&quot;extraClasses&quot;: &quot;fa-rotate-0&quot;, &quot;icon&quot;: &quot;info-sign&quot;, &quot;iconColor&quot;: &quot;green&quot;, &quot;markerColor&quot;: &quot;white&quot;, &quot;prefix&quot;: &quot;glyphicon&quot;}\n",
       "            );\n",
       "            marker_d93abd330539b3721f1468118479bfb0.setIcon(icon_853b07a7b7a2e352564f888c5fba2722);\n",
       "        \n",
       "    \n",
       "            var marker_6ea2112112cb391dd004a5abcc1c7c38 = L.marker(\n",
       "                [28.5618571, -80.577366],\n",
       "                {}\n",
       "            ).addTo(marker_cluster_b33ca8ec96422cb35b7d9cef52fae6bc);\n",
       "        \n",
       "    \n",
       "            var icon_e8d7512f87758c98056602680b08a8ac = L.AwesomeMarkers.icon(\n",
       "                {&quot;extraClasses&quot;: &quot;fa-rotate-0&quot;, &quot;icon&quot;: &quot;info-sign&quot;, &quot;iconColor&quot;: &quot;green&quot;, &quot;markerColor&quot;: &quot;white&quot;, &quot;prefix&quot;: &quot;glyphicon&quot;}\n",
       "            );\n",
       "            marker_6ea2112112cb391dd004a5abcc1c7c38.setIcon(icon_e8d7512f87758c98056602680b08a8ac);\n",
       "        \n",
       "    \n",
       "            var marker_1c2c7acb5a7315b2bf9238c7ee187fb5 = L.marker(\n",
       "                [28.5618571, -80.577366],\n",
       "                {}\n",
       "            ).addTo(marker_cluster_b33ca8ec96422cb35b7d9cef52fae6bc);\n",
       "        \n",
       "    \n",
       "            var icon_6a9c2f64ffad2f3b4489a4660d372f30 = L.AwesomeMarkers.icon(\n",
       "                {&quot;extraClasses&quot;: &quot;fa-rotate-0&quot;, &quot;icon&quot;: &quot;info-sign&quot;, &quot;iconColor&quot;: &quot;green&quot;, &quot;markerColor&quot;: &quot;white&quot;, &quot;prefix&quot;: &quot;glyphicon&quot;}\n",
       "            );\n",
       "            marker_1c2c7acb5a7315b2bf9238c7ee187fb5.setIcon(icon_6a9c2f64ffad2f3b4489a4660d372f30);\n",
       "        \n",
       "    \n",
       "            var marker_73477d3c52d1008b6d4a1edfcd45f46f = L.marker(\n",
       "                [28.5618571, -80.577366],\n",
       "                {}\n",
       "            ).addTo(marker_cluster_b33ca8ec96422cb35b7d9cef52fae6bc);\n",
       "        \n",
       "    \n",
       "            var icon_2e8aabe881c932779945307587512977 = L.AwesomeMarkers.icon(\n",
       "                {&quot;extraClasses&quot;: &quot;fa-rotate-0&quot;, &quot;icon&quot;: &quot;info-sign&quot;, &quot;iconColor&quot;: &quot;red&quot;, &quot;markerColor&quot;: &quot;white&quot;, &quot;prefix&quot;: &quot;glyphicon&quot;}\n",
       "            );\n",
       "            marker_73477d3c52d1008b6d4a1edfcd45f46f.setIcon(icon_2e8aabe881c932779945307587512977);\n",
       "        \n",
       "    \n",
       "            var marker_4a2aebd55605ddc83293200ed9c69ae7 = L.marker(\n",
       "                [34.632093, -120.610829],\n",
       "                {}\n",
       "            ).addTo(marker_cluster_b33ca8ec96422cb35b7d9cef52fae6bc);\n",
       "        \n",
       "    \n",
       "            var icon_815beaa43f675974e01f4103ab8af439 = L.AwesomeMarkers.icon(\n",
       "                {&quot;extraClasses&quot;: &quot;fa-rotate-0&quot;, &quot;icon&quot;: &quot;info-sign&quot;, &quot;iconColor&quot;: &quot;red&quot;, &quot;markerColor&quot;: &quot;white&quot;, &quot;prefix&quot;: &quot;glyphicon&quot;}\n",
       "            );\n",
       "            marker_4a2aebd55605ddc83293200ed9c69ae7.setIcon(icon_815beaa43f675974e01f4103ab8af439);\n",
       "        \n",
       "    \n",
       "            var marker_1cc25fa6ee360bb369ad3086e3696034 = L.marker(\n",
       "                [28.5618571, -80.577366],\n",
       "                {}\n",
       "            ).addTo(marker_cluster_b33ca8ec96422cb35b7d9cef52fae6bc);\n",
       "        \n",
       "    \n",
       "            var icon_a2e6d2446018d56c3b2aaa79d818f2c3 = L.AwesomeMarkers.icon(\n",
       "                {&quot;extraClasses&quot;: &quot;fa-rotate-0&quot;, &quot;icon&quot;: &quot;info-sign&quot;, &quot;iconColor&quot;: &quot;red&quot;, &quot;markerColor&quot;: &quot;white&quot;, &quot;prefix&quot;: &quot;glyphicon&quot;}\n",
       "            );\n",
       "            marker_1cc25fa6ee360bb369ad3086e3696034.setIcon(icon_a2e6d2446018d56c3b2aaa79d818f2c3);\n",
       "        \n",
       "    \n",
       "            var marker_d5127290090c65f2ba392aa6888fa8d4 = L.marker(\n",
       "                [28.5618571, -80.577366],\n",
       "                {}\n",
       "            ).addTo(marker_cluster_b33ca8ec96422cb35b7d9cef52fae6bc);\n",
       "        \n",
       "    \n",
       "            var icon_63780a43b50e61825b01d647c30761c9 = L.AwesomeMarkers.icon(\n",
       "                {&quot;extraClasses&quot;: &quot;fa-rotate-0&quot;, &quot;icon&quot;: &quot;info-sign&quot;, &quot;iconColor&quot;: &quot;green&quot;, &quot;markerColor&quot;: &quot;white&quot;, &quot;prefix&quot;: &quot;glyphicon&quot;}\n",
       "            );\n",
       "            marker_d5127290090c65f2ba392aa6888fa8d4.setIcon(icon_63780a43b50e61825b01d647c30761c9);\n",
       "        \n",
       "    \n",
       "            var marker_4ab4fe92072b0344bb69df08f81f92d3 = L.marker(\n",
       "                [28.6080585, -80.6039558],\n",
       "                {}\n",
       "            ).addTo(marker_cluster_b33ca8ec96422cb35b7d9cef52fae6bc);\n",
       "        \n",
       "    \n",
       "            var icon_3b474ec7d85e1522b846437eabfba11c = L.AwesomeMarkers.icon(\n",
       "                {&quot;extraClasses&quot;: &quot;fa-rotate-0&quot;, &quot;icon&quot;: &quot;info-sign&quot;, &quot;iconColor&quot;: &quot;green&quot;, &quot;markerColor&quot;: &quot;white&quot;, &quot;prefix&quot;: &quot;glyphicon&quot;}\n",
       "            );\n",
       "            marker_4ab4fe92072b0344bb69df08f81f92d3.setIcon(icon_3b474ec7d85e1522b846437eabfba11c);\n",
       "        \n",
       "    \n",
       "            var marker_497d89c522f105e99d7c443aee7e7493 = L.marker(\n",
       "                [28.5618571, -80.577366],\n",
       "                {}\n",
       "            ).addTo(marker_cluster_b33ca8ec96422cb35b7d9cef52fae6bc);\n",
       "        \n",
       "    \n",
       "            var icon_ddb0e56556fc95f54d3bc21c527cdc80 = L.AwesomeMarkers.icon(\n",
       "                {&quot;extraClasses&quot;: &quot;fa-rotate-0&quot;, &quot;icon&quot;: &quot;info-sign&quot;, &quot;iconColor&quot;: &quot;red&quot;, &quot;markerColor&quot;: &quot;white&quot;, &quot;prefix&quot;: &quot;glyphicon&quot;}\n",
       "            );\n",
       "            marker_497d89c522f105e99d7c443aee7e7493.setIcon(icon_ddb0e56556fc95f54d3bc21c527cdc80);\n",
       "        \n",
       "    \n",
       "            var marker_14829197e9f10858ca529ce57f37cd1e = L.marker(\n",
       "                [28.5618571, -80.577366],\n",
       "                {}\n",
       "            ).addTo(marker_cluster_b33ca8ec96422cb35b7d9cef52fae6bc);\n",
       "        \n",
       "    \n",
       "            var icon_f91356011a91927de29e2936476f0175 = L.AwesomeMarkers.icon(\n",
       "                {&quot;extraClasses&quot;: &quot;fa-rotate-0&quot;, &quot;icon&quot;: &quot;info-sign&quot;, &quot;iconColor&quot;: &quot;red&quot;, &quot;markerColor&quot;: &quot;white&quot;, &quot;prefix&quot;: &quot;glyphicon&quot;}\n",
       "            );\n",
       "            marker_14829197e9f10858ca529ce57f37cd1e.setIcon(icon_f91356011a91927de29e2936476f0175);\n",
       "        \n",
       "    \n",
       "            var marker_a8aa85213279221f636fd255a86cc78c = L.marker(\n",
       "                [28.5618571, -80.577366],\n",
       "                {}\n",
       "            ).addTo(marker_cluster_b33ca8ec96422cb35b7d9cef52fae6bc);\n",
       "        \n",
       "    \n",
       "            var icon_fff60ea218b265523979e36caef488ce = L.AwesomeMarkers.icon(\n",
       "                {&quot;extraClasses&quot;: &quot;fa-rotate-0&quot;, &quot;icon&quot;: &quot;info-sign&quot;, &quot;iconColor&quot;: &quot;green&quot;, &quot;markerColor&quot;: &quot;white&quot;, &quot;prefix&quot;: &quot;glyphicon&quot;}\n",
       "            );\n",
       "            marker_a8aa85213279221f636fd255a86cc78c.setIcon(icon_fff60ea218b265523979e36caef488ce);\n",
       "        \n",
       "    \n",
       "            var marker_59fc177cea42ab91b70cd7f2afa52075 = L.marker(\n",
       "                [34.632093, -120.610829],\n",
       "                {}\n",
       "            ).addTo(marker_cluster_b33ca8ec96422cb35b7d9cef52fae6bc);\n",
       "        \n",
       "    \n",
       "            var icon_343bd96392909f6c817270b936807cbd = L.AwesomeMarkers.icon(\n",
       "                {&quot;extraClasses&quot;: &quot;fa-rotate-0&quot;, &quot;icon&quot;: &quot;info-sign&quot;, &quot;iconColor&quot;: &quot;green&quot;, &quot;markerColor&quot;: &quot;white&quot;, &quot;prefix&quot;: &quot;glyphicon&quot;}\n",
       "            );\n",
       "            marker_59fc177cea42ab91b70cd7f2afa52075.setIcon(icon_343bd96392909f6c817270b936807cbd);\n",
       "        \n",
       "    \n",
       "            var marker_9c2f89aa1f88336c1fab356f1bade51d = L.marker(\n",
       "                [28.5618571, -80.577366],\n",
       "                {}\n",
       "            ).addTo(marker_cluster_b33ca8ec96422cb35b7d9cef52fae6bc);\n",
       "        \n",
       "    \n",
       "            var icon_f7f3bbd1cee4ce5a9656c57c0a8d6613 = L.AwesomeMarkers.icon(\n",
       "                {&quot;extraClasses&quot;: &quot;fa-rotate-0&quot;, &quot;icon&quot;: &quot;info-sign&quot;, &quot;iconColor&quot;: &quot;green&quot;, &quot;markerColor&quot;: &quot;white&quot;, &quot;prefix&quot;: &quot;glyphicon&quot;}\n",
       "            );\n",
       "            marker_9c2f89aa1f88336c1fab356f1bade51d.setIcon(icon_f7f3bbd1cee4ce5a9656c57c0a8d6613);\n",
       "        \n",
       "    \n",
       "            var marker_ca673592f2071466477f012488c49321 = L.marker(\n",
       "                [28.5618571, -80.577366],\n",
       "                {}\n",
       "            ).addTo(marker_cluster_b33ca8ec96422cb35b7d9cef52fae6bc);\n",
       "        \n",
       "    \n",
       "            var icon_392dbf5b517e2c18cca5f4c23b3d8eab = L.AwesomeMarkers.icon(\n",
       "                {&quot;extraClasses&quot;: &quot;fa-rotate-0&quot;, &quot;icon&quot;: &quot;info-sign&quot;, &quot;iconColor&quot;: &quot;green&quot;, &quot;markerColor&quot;: &quot;white&quot;, &quot;prefix&quot;: &quot;glyphicon&quot;}\n",
       "            );\n",
       "            marker_ca673592f2071466477f012488c49321.setIcon(icon_392dbf5b517e2c18cca5f4c23b3d8eab);\n",
       "        \n",
       "    \n",
       "            var marker_80dfdf0904e1755451e1c36982ac9898 = L.marker(\n",
       "                [34.632093, -120.610829],\n",
       "                {}\n",
       "            ).addTo(marker_cluster_b33ca8ec96422cb35b7d9cef52fae6bc);\n",
       "        \n",
       "    \n",
       "            var icon_0eadb80261115dd30803e4a1372f74e0 = L.AwesomeMarkers.icon(\n",
       "                {&quot;extraClasses&quot;: &quot;fa-rotate-0&quot;, &quot;icon&quot;: &quot;info-sign&quot;, &quot;iconColor&quot;: &quot;green&quot;, &quot;markerColor&quot;: &quot;white&quot;, &quot;prefix&quot;: &quot;glyphicon&quot;}\n",
       "            );\n",
       "            marker_80dfdf0904e1755451e1c36982ac9898.setIcon(icon_0eadb80261115dd30803e4a1372f74e0);\n",
       "        \n",
       "    \n",
       "            var marker_48588bd8ce57d861d5d411c0a6a1606c = L.marker(\n",
       "                [28.6080585, -80.6039558],\n",
       "                {}\n",
       "            ).addTo(marker_cluster_b33ca8ec96422cb35b7d9cef52fae6bc);\n",
       "        \n",
       "    \n",
       "            var icon_4cbd932b446d329db15bd04bed851b3e = L.AwesomeMarkers.icon(\n",
       "                {&quot;extraClasses&quot;: &quot;fa-rotate-0&quot;, &quot;icon&quot;: &quot;info-sign&quot;, &quot;iconColor&quot;: &quot;green&quot;, &quot;markerColor&quot;: &quot;white&quot;, &quot;prefix&quot;: &quot;glyphicon&quot;}\n",
       "            );\n",
       "            marker_48588bd8ce57d861d5d411c0a6a1606c.setIcon(icon_4cbd932b446d329db15bd04bed851b3e);\n",
       "        \n",
       "    \n",
       "            var marker_8a192e0fcdd755fb5a88f5a3f1fadab4 = L.marker(\n",
       "                [34.632093, -120.610829],\n",
       "                {}\n",
       "            ).addTo(marker_cluster_b33ca8ec96422cb35b7d9cef52fae6bc);\n",
       "        \n",
       "    \n",
       "            var icon_173e3068123fa6e0f59b783d6e286512 = L.AwesomeMarkers.icon(\n",
       "                {&quot;extraClasses&quot;: &quot;fa-rotate-0&quot;, &quot;icon&quot;: &quot;info-sign&quot;, &quot;iconColor&quot;: &quot;green&quot;, &quot;markerColor&quot;: &quot;white&quot;, &quot;prefix&quot;: &quot;glyphicon&quot;}\n",
       "            );\n",
       "            marker_8a192e0fcdd755fb5a88f5a3f1fadab4.setIcon(icon_173e3068123fa6e0f59b783d6e286512);\n",
       "        \n",
       "    \n",
       "            var marker_b80052c9d180ae31f24b61301369da9a = L.marker(\n",
       "                [28.5618571, -80.577366],\n",
       "                {}\n",
       "            ).addTo(marker_cluster_b33ca8ec96422cb35b7d9cef52fae6bc);\n",
       "        \n",
       "    \n",
       "            var icon_7c71c0efa7425022cf9d4cde4266c75f = L.AwesomeMarkers.icon(\n",
       "                {&quot;extraClasses&quot;: &quot;fa-rotate-0&quot;, &quot;icon&quot;: &quot;info-sign&quot;, &quot;iconColor&quot;: &quot;red&quot;, &quot;markerColor&quot;: &quot;white&quot;, &quot;prefix&quot;: &quot;glyphicon&quot;}\n",
       "            );\n",
       "            marker_b80052c9d180ae31f24b61301369da9a.setIcon(icon_7c71c0efa7425022cf9d4cde4266c75f);\n",
       "        \n",
       "    \n",
       "            var marker_65631eeb3320bfc3a07d26f61c177f2b = L.marker(\n",
       "                [28.5618571, -80.577366],\n",
       "                {}\n",
       "            ).addTo(marker_cluster_b33ca8ec96422cb35b7d9cef52fae6bc);\n",
       "        \n",
       "    \n",
       "            var icon_2625e96a8db2a52cc81e8e39b757267f = L.AwesomeMarkers.icon(\n",
       "                {&quot;extraClasses&quot;: &quot;fa-rotate-0&quot;, &quot;icon&quot;: &quot;info-sign&quot;, &quot;iconColor&quot;: &quot;red&quot;, &quot;markerColor&quot;: &quot;white&quot;, &quot;prefix&quot;: &quot;glyphicon&quot;}\n",
       "            );\n",
       "            marker_65631eeb3320bfc3a07d26f61c177f2b.setIcon(icon_2625e96a8db2a52cc81e8e39b757267f);\n",
       "        \n",
       "    \n",
       "            var marker_3cf71456d5b01086ac20c8d8601696fe = L.marker(\n",
       "                [34.632093, -120.610829],\n",
       "                {}\n",
       "            ).addTo(marker_cluster_b33ca8ec96422cb35b7d9cef52fae6bc);\n",
       "        \n",
       "    \n",
       "            var icon_2629f1f30aab1b856e537a530ab629a2 = L.AwesomeMarkers.icon(\n",
       "                {&quot;extraClasses&quot;: &quot;fa-rotate-0&quot;, &quot;icon&quot;: &quot;info-sign&quot;, &quot;iconColor&quot;: &quot;green&quot;, &quot;markerColor&quot;: &quot;white&quot;, &quot;prefix&quot;: &quot;glyphicon&quot;}\n",
       "            );\n",
       "            marker_3cf71456d5b01086ac20c8d8601696fe.setIcon(icon_2629f1f30aab1b856e537a530ab629a2);\n",
       "        \n",
       "    \n",
       "            var marker_126aa55a81a9822a33a15ae218bc3b3f = L.marker(\n",
       "                [28.6080585, -80.6039558],\n",
       "                {}\n",
       "            ).addTo(marker_cluster_b33ca8ec96422cb35b7d9cef52fae6bc);\n",
       "        \n",
       "    \n",
       "            var icon_0e0a6e1811a1dd6dacaa5c60f1ae947b = L.AwesomeMarkers.icon(\n",
       "                {&quot;extraClasses&quot;: &quot;fa-rotate-0&quot;, &quot;icon&quot;: &quot;info-sign&quot;, &quot;iconColor&quot;: &quot;green&quot;, &quot;markerColor&quot;: &quot;white&quot;, &quot;prefix&quot;: &quot;glyphicon&quot;}\n",
       "            );\n",
       "            marker_126aa55a81a9822a33a15ae218bc3b3f.setIcon(icon_0e0a6e1811a1dd6dacaa5c60f1ae947b);\n",
       "        \n",
       "    \n",
       "            var marker_06250f5ab532931715a47a496fe2f981 = L.marker(\n",
       "                [28.5618571, -80.577366],\n",
       "                {}\n",
       "            ).addTo(marker_cluster_b33ca8ec96422cb35b7d9cef52fae6bc);\n",
       "        \n",
       "    \n",
       "            var icon_d7a3243d0bfeddc6299155be195fa281 = L.AwesomeMarkers.icon(\n",
       "                {&quot;extraClasses&quot;: &quot;fa-rotate-0&quot;, &quot;icon&quot;: &quot;info-sign&quot;, &quot;iconColor&quot;: &quot;green&quot;, &quot;markerColor&quot;: &quot;white&quot;, &quot;prefix&quot;: &quot;glyphicon&quot;}\n",
       "            );\n",
       "            marker_06250f5ab532931715a47a496fe2f981.setIcon(icon_d7a3243d0bfeddc6299155be195fa281);\n",
       "        \n",
       "    \n",
       "            var marker_72a13edf05937973668892e1ff320140 = L.marker(\n",
       "                [28.5618571, -80.577366],\n",
       "                {}\n",
       "            ).addTo(marker_cluster_b33ca8ec96422cb35b7d9cef52fae6bc);\n",
       "        \n",
       "    \n",
       "            var icon_b36b1c1e67f91c9ff31479f91abab6f7 = L.AwesomeMarkers.icon(\n",
       "                {&quot;extraClasses&quot;: &quot;fa-rotate-0&quot;, &quot;icon&quot;: &quot;info-sign&quot;, &quot;iconColor&quot;: &quot;green&quot;, &quot;markerColor&quot;: &quot;white&quot;, &quot;prefix&quot;: &quot;glyphicon&quot;}\n",
       "            );\n",
       "            marker_72a13edf05937973668892e1ff320140.setIcon(icon_b36b1c1e67f91c9ff31479f91abab6f7);\n",
       "        \n",
       "    \n",
       "            var marker_762a243741f9fb2d46868c3da50a1361 = L.marker(\n",
       "                [34.632093, -120.610829],\n",
       "                {}\n",
       "            ).addTo(marker_cluster_b33ca8ec96422cb35b7d9cef52fae6bc);\n",
       "        \n",
       "    \n",
       "            var icon_91c4dc937875ce5eb74a209664cf1548 = L.AwesomeMarkers.icon(\n",
       "                {&quot;extraClasses&quot;: &quot;fa-rotate-0&quot;, &quot;icon&quot;: &quot;info-sign&quot;, &quot;iconColor&quot;: &quot;green&quot;, &quot;markerColor&quot;: &quot;white&quot;, &quot;prefix&quot;: &quot;glyphicon&quot;}\n",
       "            );\n",
       "            marker_762a243741f9fb2d46868c3da50a1361.setIcon(icon_91c4dc937875ce5eb74a209664cf1548);\n",
       "        \n",
       "    \n",
       "            var marker_e99e75d208ffcdaab8c223255ac25a1c = L.marker(\n",
       "                [28.5618571, -80.577366],\n",
       "                {}\n",
       "            ).addTo(marker_cluster_b33ca8ec96422cb35b7d9cef52fae6bc);\n",
       "        \n",
       "    \n",
       "            var icon_0a552414f44b7110e552b8f0ea653a32 = L.AwesomeMarkers.icon(\n",
       "                {&quot;extraClasses&quot;: &quot;fa-rotate-0&quot;, &quot;icon&quot;: &quot;info-sign&quot;, &quot;iconColor&quot;: &quot;green&quot;, &quot;markerColor&quot;: &quot;white&quot;, &quot;prefix&quot;: &quot;glyphicon&quot;}\n",
       "            );\n",
       "            marker_e99e75d208ffcdaab8c223255ac25a1c.setIcon(icon_0a552414f44b7110e552b8f0ea653a32);\n",
       "        \n",
       "    \n",
       "            var marker_3e507ed6cc076744934932e28e635684 = L.marker(\n",
       "                [28.5618571, -80.577366],\n",
       "                {}\n",
       "            ).addTo(marker_cluster_b33ca8ec96422cb35b7d9cef52fae6bc);\n",
       "        \n",
       "    \n",
       "            var icon_27e21d9614c562e72e2f76f3e40df918 = L.AwesomeMarkers.icon(\n",
       "                {&quot;extraClasses&quot;: &quot;fa-rotate-0&quot;, &quot;icon&quot;: &quot;info-sign&quot;, &quot;iconColor&quot;: &quot;red&quot;, &quot;markerColor&quot;: &quot;white&quot;, &quot;prefix&quot;: &quot;glyphicon&quot;}\n",
       "            );\n",
       "            marker_3e507ed6cc076744934932e28e635684.setIcon(icon_27e21d9614c562e72e2f76f3e40df918);\n",
       "        \n",
       "    \n",
       "            var marker_e672ebd454653e83f91c3524b7c997cd = L.marker(\n",
       "                [28.5618571, -80.577366],\n",
       "                {}\n",
       "            ).addTo(marker_cluster_b33ca8ec96422cb35b7d9cef52fae6bc);\n",
       "        \n",
       "    \n",
       "            var icon_784dd8b3a64419422873108fba85a2a8 = L.AwesomeMarkers.icon(\n",
       "                {&quot;extraClasses&quot;: &quot;fa-rotate-0&quot;, &quot;icon&quot;: &quot;info-sign&quot;, &quot;iconColor&quot;: &quot;green&quot;, &quot;markerColor&quot;: &quot;white&quot;, &quot;prefix&quot;: &quot;glyphicon&quot;}\n",
       "            );\n",
       "            marker_e672ebd454653e83f91c3524b7c997cd.setIcon(icon_784dd8b3a64419422873108fba85a2a8);\n",
       "        \n",
       "    \n",
       "            var marker_99f70b03d5d2f13ea07c15054ba7c480 = L.marker(\n",
       "                [28.5618571, -80.577366],\n",
       "                {}\n",
       "            ).addTo(marker_cluster_b33ca8ec96422cb35b7d9cef52fae6bc);\n",
       "        \n",
       "    \n",
       "            var icon_82f54b6ce1d1b870699fa1778016fa4f = L.AwesomeMarkers.icon(\n",
       "                {&quot;extraClasses&quot;: &quot;fa-rotate-0&quot;, &quot;icon&quot;: &quot;info-sign&quot;, &quot;iconColor&quot;: &quot;green&quot;, &quot;markerColor&quot;: &quot;white&quot;, &quot;prefix&quot;: &quot;glyphicon&quot;}\n",
       "            );\n",
       "            marker_99f70b03d5d2f13ea07c15054ba7c480.setIcon(icon_82f54b6ce1d1b870699fa1778016fa4f);\n",
       "        \n",
       "    \n",
       "            var marker_d416a279712d33449b7b1ad5fb3b6c1e = L.marker(\n",
       "                [28.5618571, -80.577366],\n",
       "                {}\n",
       "            ).addTo(marker_cluster_b33ca8ec96422cb35b7d9cef52fae6bc);\n",
       "        \n",
       "    \n",
       "            var icon_f3ab17b6c186e2ea47fb4e5e083fc2cc = L.AwesomeMarkers.icon(\n",
       "                {&quot;extraClasses&quot;: &quot;fa-rotate-0&quot;, &quot;icon&quot;: &quot;info-sign&quot;, &quot;iconColor&quot;: &quot;green&quot;, &quot;markerColor&quot;: &quot;white&quot;, &quot;prefix&quot;: &quot;glyphicon&quot;}\n",
       "            );\n",
       "            marker_d416a279712d33449b7b1ad5fb3b6c1e.setIcon(icon_f3ab17b6c186e2ea47fb4e5e083fc2cc);\n",
       "        \n",
       "    \n",
       "            var marker_1499f86566fd71a2ecd646d6f6620e5a = L.marker(\n",
       "                [28.5618571, -80.577366],\n",
       "                {}\n",
       "            ).addTo(marker_cluster_b33ca8ec96422cb35b7d9cef52fae6bc);\n",
       "        \n",
       "    \n",
       "            var icon_e497990464647487235619b330a947bd = L.AwesomeMarkers.icon(\n",
       "                {&quot;extraClasses&quot;: &quot;fa-rotate-0&quot;, &quot;icon&quot;: &quot;info-sign&quot;, &quot;iconColor&quot;: &quot;green&quot;, &quot;markerColor&quot;: &quot;white&quot;, &quot;prefix&quot;: &quot;glyphicon&quot;}\n",
       "            );\n",
       "            marker_1499f86566fd71a2ecd646d6f6620e5a.setIcon(icon_e497990464647487235619b330a947bd);\n",
       "        \n",
       "    \n",
       "            var marker_88b53c34d56f1b2a1bed86582de9024e = L.marker(\n",
       "                [28.6080585, -80.6039558],\n",
       "                {}\n",
       "            ).addTo(marker_cluster_b33ca8ec96422cb35b7d9cef52fae6bc);\n",
       "        \n",
       "    \n",
       "            var icon_f39bad995e7d20c03a0c1e268e4e9b08 = L.AwesomeMarkers.icon(\n",
       "                {&quot;extraClasses&quot;: &quot;fa-rotate-0&quot;, &quot;icon&quot;: &quot;info-sign&quot;, &quot;iconColor&quot;: &quot;red&quot;, &quot;markerColor&quot;: &quot;white&quot;, &quot;prefix&quot;: &quot;glyphicon&quot;}\n",
       "            );\n",
       "            marker_88b53c34d56f1b2a1bed86582de9024e.setIcon(icon_f39bad995e7d20c03a0c1e268e4e9b08);\n",
       "        \n",
       "    \n",
       "            var marker_a77fcc453d26126539c6d15b21f8cc67 = L.marker(\n",
       "                [28.5618571, -80.577366],\n",
       "                {}\n",
       "            ).addTo(marker_cluster_b33ca8ec96422cb35b7d9cef52fae6bc);\n",
       "        \n",
       "    \n",
       "            var icon_9251d77a91ab4765506983faa0639b13 = L.AwesomeMarkers.icon(\n",
       "                {&quot;extraClasses&quot;: &quot;fa-rotate-0&quot;, &quot;icon&quot;: &quot;info-sign&quot;, &quot;iconColor&quot;: &quot;green&quot;, &quot;markerColor&quot;: &quot;white&quot;, &quot;prefix&quot;: &quot;glyphicon&quot;}\n",
       "            );\n",
       "            marker_a77fcc453d26126539c6d15b21f8cc67.setIcon(icon_9251d77a91ab4765506983faa0639b13);\n",
       "        \n",
       "    \n",
       "            var marker_74fd6813003b06838c52780584d8c763 = L.marker(\n",
       "                [28.5618571, -80.577366],\n",
       "                {}\n",
       "            ).addTo(marker_cluster_b33ca8ec96422cb35b7d9cef52fae6bc);\n",
       "        \n",
       "    \n",
       "            var icon_96f6ccf30e9463293dd0ccf8e6281026 = L.AwesomeMarkers.icon(\n",
       "                {&quot;extraClasses&quot;: &quot;fa-rotate-0&quot;, &quot;icon&quot;: &quot;info-sign&quot;, &quot;iconColor&quot;: &quot;red&quot;, &quot;markerColor&quot;: &quot;white&quot;, &quot;prefix&quot;: &quot;glyphicon&quot;}\n",
       "            );\n",
       "            marker_74fd6813003b06838c52780584d8c763.setIcon(icon_96f6ccf30e9463293dd0ccf8e6281026);\n",
       "        \n",
       "    \n",
       "            var marker_3581fa682e92a288243858384484306d = L.marker(\n",
       "                [28.5618571, -80.577366],\n",
       "                {}\n",
       "            ).addTo(marker_cluster_b33ca8ec96422cb35b7d9cef52fae6bc);\n",
       "        \n",
       "    \n",
       "            var icon_bcd6f922c59d72e5e3b641fc96885f71 = L.AwesomeMarkers.icon(\n",
       "                {&quot;extraClasses&quot;: &quot;fa-rotate-0&quot;, &quot;icon&quot;: &quot;info-sign&quot;, &quot;iconColor&quot;: &quot;green&quot;, &quot;markerColor&quot;: &quot;white&quot;, &quot;prefix&quot;: &quot;glyphicon&quot;}\n",
       "            );\n",
       "            marker_3581fa682e92a288243858384484306d.setIcon(icon_bcd6f922c59d72e5e3b641fc96885f71);\n",
       "        \n",
       "    \n",
       "            var marker_c3da00ccabb5ee773e4a43336b672bac = L.marker(\n",
       "                [28.6080585, -80.6039558],\n",
       "                {}\n",
       "            ).addTo(marker_cluster_b33ca8ec96422cb35b7d9cef52fae6bc);\n",
       "        \n",
       "    \n",
       "            var icon_733462064d7c787c9a522884a84678d2 = L.AwesomeMarkers.icon(\n",
       "                {&quot;extraClasses&quot;: &quot;fa-rotate-0&quot;, &quot;icon&quot;: &quot;info-sign&quot;, &quot;iconColor&quot;: &quot;red&quot;, &quot;markerColor&quot;: &quot;white&quot;, &quot;prefix&quot;: &quot;glyphicon&quot;}\n",
       "            );\n",
       "            marker_c3da00ccabb5ee773e4a43336b672bac.setIcon(icon_733462064d7c787c9a522884a84678d2);\n",
       "        \n",
       "    \n",
       "            var marker_d3daeb462e2395efd8dbd143e384b39b = L.marker(\n",
       "                [28.6080585, -80.6039558],\n",
       "                {}\n",
       "            ).addTo(marker_cluster_b33ca8ec96422cb35b7d9cef52fae6bc);\n",
       "        \n",
       "    \n",
       "            var icon_2b0735449ac688faac92eb7984b05fc4 = L.AwesomeMarkers.icon(\n",
       "                {&quot;extraClasses&quot;: &quot;fa-rotate-0&quot;, &quot;icon&quot;: &quot;info-sign&quot;, &quot;iconColor&quot;: &quot;green&quot;, &quot;markerColor&quot;: &quot;white&quot;, &quot;prefix&quot;: &quot;glyphicon&quot;}\n",
       "            );\n",
       "            marker_d3daeb462e2395efd8dbd143e384b39b.setIcon(icon_2b0735449ac688faac92eb7984b05fc4);\n",
       "        \n",
       "    \n",
       "            var marker_c107394feff7e61f370417030a7ee690 = L.marker(\n",
       "                [28.6080585, -80.6039558],\n",
       "                {}\n",
       "            ).addTo(marker_cluster_b33ca8ec96422cb35b7d9cef52fae6bc);\n",
       "        \n",
       "    \n",
       "            var icon_856075c51b090130496f63ab5059df57 = L.AwesomeMarkers.icon(\n",
       "                {&quot;extraClasses&quot;: &quot;fa-rotate-0&quot;, &quot;icon&quot;: &quot;info-sign&quot;, &quot;iconColor&quot;: &quot;green&quot;, &quot;markerColor&quot;: &quot;white&quot;, &quot;prefix&quot;: &quot;glyphicon&quot;}\n",
       "            );\n",
       "            marker_c107394feff7e61f370417030a7ee690.setIcon(icon_856075c51b090130496f63ab5059df57);\n",
       "        \n",
       "    \n",
       "            var marker_34fb50b64a79d75b104430da6dc7b158 = L.marker(\n",
       "                [28.5618571, -80.577366],\n",
       "                {}\n",
       "            ).addTo(marker_cluster_b33ca8ec96422cb35b7d9cef52fae6bc);\n",
       "        \n",
       "    \n",
       "            var icon_01fcf29fefa49863feb89bad865fa473 = L.AwesomeMarkers.icon(\n",
       "                {&quot;extraClasses&quot;: &quot;fa-rotate-0&quot;, &quot;icon&quot;: &quot;info-sign&quot;, &quot;iconColor&quot;: &quot;green&quot;, &quot;markerColor&quot;: &quot;white&quot;, &quot;prefix&quot;: &quot;glyphicon&quot;}\n",
       "            );\n",
       "            marker_34fb50b64a79d75b104430da6dc7b158.setIcon(icon_01fcf29fefa49863feb89bad865fa473);\n",
       "        \n",
       "    \n",
       "            var marker_4fbbc9b17b97284ec7ebeca8f1dbf348 = L.marker(\n",
       "                [28.5618571, -80.577366],\n",
       "                {}\n",
       "            ).addTo(marker_cluster_b33ca8ec96422cb35b7d9cef52fae6bc);\n",
       "        \n",
       "    \n",
       "            var icon_b64ec08fed0d2a673041cb983630212a = L.AwesomeMarkers.icon(\n",
       "                {&quot;extraClasses&quot;: &quot;fa-rotate-0&quot;, &quot;icon&quot;: &quot;info-sign&quot;, &quot;iconColor&quot;: &quot;green&quot;, &quot;markerColor&quot;: &quot;white&quot;, &quot;prefix&quot;: &quot;glyphicon&quot;}\n",
       "            );\n",
       "            marker_4fbbc9b17b97284ec7ebeca8f1dbf348.setIcon(icon_b64ec08fed0d2a673041cb983630212a);\n",
       "        \n",
       "    \n",
       "            var marker_d8a00a33f5ee4f4b100c0de59ef6ca5e = L.marker(\n",
       "                [28.5618571, -80.577366],\n",
       "                {}\n",
       "            ).addTo(marker_cluster_b33ca8ec96422cb35b7d9cef52fae6bc);\n",
       "        \n",
       "    \n",
       "            var icon_af4e0478c6e2d234d3e2faaf281cb939 = L.AwesomeMarkers.icon(\n",
       "                {&quot;extraClasses&quot;: &quot;fa-rotate-0&quot;, &quot;icon&quot;: &quot;info-sign&quot;, &quot;iconColor&quot;: &quot;green&quot;, &quot;markerColor&quot;: &quot;white&quot;, &quot;prefix&quot;: &quot;glyphicon&quot;}\n",
       "            );\n",
       "            marker_d8a00a33f5ee4f4b100c0de59ef6ca5e.setIcon(icon_af4e0478c6e2d234d3e2faaf281cb939);\n",
       "        \n",
       "    \n",
       "            var marker_f7ea845dec200dc4585ac601415e4c76 = L.marker(\n",
       "                [28.5618571, -80.577366],\n",
       "                {}\n",
       "            ).addTo(marker_cluster_b33ca8ec96422cb35b7d9cef52fae6bc);\n",
       "        \n",
       "    \n",
       "            var icon_d3bab1813d85b5c612e04285fdc6644b = L.AwesomeMarkers.icon(\n",
       "                {&quot;extraClasses&quot;: &quot;fa-rotate-0&quot;, &quot;icon&quot;: &quot;info-sign&quot;, &quot;iconColor&quot;: &quot;green&quot;, &quot;markerColor&quot;: &quot;white&quot;, &quot;prefix&quot;: &quot;glyphicon&quot;}\n",
       "            );\n",
       "            marker_f7ea845dec200dc4585ac601415e4c76.setIcon(icon_d3bab1813d85b5c612e04285fdc6644b);\n",
       "        \n",
       "    \n",
       "            var marker_11e2ef9cae4ce0dd71ca3b47a1e06bbc = L.marker(\n",
       "                [28.5618571, -80.577366],\n",
       "                {}\n",
       "            ).addTo(marker_cluster_b33ca8ec96422cb35b7d9cef52fae6bc);\n",
       "        \n",
       "    \n",
       "            var icon_c63ed96beb31c8b639e80877df1c9015 = L.AwesomeMarkers.icon(\n",
       "                {&quot;extraClasses&quot;: &quot;fa-rotate-0&quot;, &quot;icon&quot;: &quot;info-sign&quot;, &quot;iconColor&quot;: &quot;green&quot;, &quot;markerColor&quot;: &quot;white&quot;, &quot;prefix&quot;: &quot;glyphicon&quot;}\n",
       "            );\n",
       "            marker_11e2ef9cae4ce0dd71ca3b47a1e06bbc.setIcon(icon_c63ed96beb31c8b639e80877df1c9015);\n",
       "        \n",
       "    \n",
       "            var marker_991dcbb898311fb73583832f7b13d151 = L.marker(\n",
       "                [28.5618571, -80.577366],\n",
       "                {}\n",
       "            ).addTo(marker_cluster_b33ca8ec96422cb35b7d9cef52fae6bc);\n",
       "        \n",
       "    \n",
       "            var icon_c8d605afbb238e854744a94bbbec89f1 = L.AwesomeMarkers.icon(\n",
       "                {&quot;extraClasses&quot;: &quot;fa-rotate-0&quot;, &quot;icon&quot;: &quot;info-sign&quot;, &quot;iconColor&quot;: &quot;green&quot;, &quot;markerColor&quot;: &quot;white&quot;, &quot;prefix&quot;: &quot;glyphicon&quot;}\n",
       "            );\n",
       "            marker_991dcbb898311fb73583832f7b13d151.setIcon(icon_c8d605afbb238e854744a94bbbec89f1);\n",
       "        \n",
       "    \n",
       "            var marker_df318289517ca8f9cb6bc9a9c7be8e4b = L.marker(\n",
       "                [28.6080585, -80.6039558],\n",
       "                {}\n",
       "            ).addTo(marker_cluster_b33ca8ec96422cb35b7d9cef52fae6bc);\n",
       "        \n",
       "    \n",
       "            var icon_49f3f3b29d31d8adbfea21c1991f736a = L.AwesomeMarkers.icon(\n",
       "                {&quot;extraClasses&quot;: &quot;fa-rotate-0&quot;, &quot;icon&quot;: &quot;info-sign&quot;, &quot;iconColor&quot;: &quot;green&quot;, &quot;markerColor&quot;: &quot;white&quot;, &quot;prefix&quot;: &quot;glyphicon&quot;}\n",
       "            );\n",
       "            marker_df318289517ca8f9cb6bc9a9c7be8e4b.setIcon(icon_49f3f3b29d31d8adbfea21c1991f736a);\n",
       "        \n",
       "    \n",
       "            var marker_bba2038252e224ff4af8f83426dc60c7 = L.marker(\n",
       "                [28.6080585, -80.6039558],\n",
       "                {}\n",
       "            ).addTo(marker_cluster_b33ca8ec96422cb35b7d9cef52fae6bc);\n",
       "        \n",
       "    \n",
       "            var icon_d6ff9286595da2b150498d2c223203fa = L.AwesomeMarkers.icon(\n",
       "                {&quot;extraClasses&quot;: &quot;fa-rotate-0&quot;, &quot;icon&quot;: &quot;info-sign&quot;, &quot;iconColor&quot;: &quot;green&quot;, &quot;markerColor&quot;: &quot;white&quot;, &quot;prefix&quot;: &quot;glyphicon&quot;}\n",
       "            );\n",
       "            marker_bba2038252e224ff4af8f83426dc60c7.setIcon(icon_d6ff9286595da2b150498d2c223203fa);\n",
       "        \n",
       "    \n",
       "            var marker_972a8c8366fd631eb6f404e8bc61b1a0 = L.marker(\n",
       "                [28.6080585, -80.6039558],\n",
       "                {}\n",
       "            ).addTo(marker_cluster_b33ca8ec96422cb35b7d9cef52fae6bc);\n",
       "        \n",
       "    \n",
       "            var icon_9306378007837b4dd77ccb44797d2b0c = L.AwesomeMarkers.icon(\n",
       "                {&quot;extraClasses&quot;: &quot;fa-rotate-0&quot;, &quot;icon&quot;: &quot;info-sign&quot;, &quot;iconColor&quot;: &quot;green&quot;, &quot;markerColor&quot;: &quot;white&quot;, &quot;prefix&quot;: &quot;glyphicon&quot;}\n",
       "            );\n",
       "            marker_972a8c8366fd631eb6f404e8bc61b1a0.setIcon(icon_9306378007837b4dd77ccb44797d2b0c);\n",
       "        \n",
       "    \n",
       "            var marker_a48fe68c874a14e98696a34fb4efcbc7 = L.marker(\n",
       "                [28.5618571, -80.577366],\n",
       "                {}\n",
       "            ).addTo(marker_cluster_b33ca8ec96422cb35b7d9cef52fae6bc);\n",
       "        \n",
       "    \n",
       "            var icon_1d42247beca45af7a6fdfcd4fb7aeba7 = L.AwesomeMarkers.icon(\n",
       "                {&quot;extraClasses&quot;: &quot;fa-rotate-0&quot;, &quot;icon&quot;: &quot;info-sign&quot;, &quot;iconColor&quot;: &quot;green&quot;, &quot;markerColor&quot;: &quot;white&quot;, &quot;prefix&quot;: &quot;glyphicon&quot;}\n",
       "            );\n",
       "            marker_a48fe68c874a14e98696a34fb4efcbc7.setIcon(icon_1d42247beca45af7a6fdfcd4fb7aeba7);\n",
       "        \n",
       "    \n",
       "            var marker_93be27449ee0c215d2716a5c9974817d = L.marker(\n",
       "                [28.5618571, -80.577366],\n",
       "                {}\n",
       "            ).addTo(marker_cluster_b33ca8ec96422cb35b7d9cef52fae6bc);\n",
       "        \n",
       "    \n",
       "            var icon_b03ac684ff7444b8fcdcedb2274d8cfc = L.AwesomeMarkers.icon(\n",
       "                {&quot;extraClasses&quot;: &quot;fa-rotate-0&quot;, &quot;icon&quot;: &quot;info-sign&quot;, &quot;iconColor&quot;: &quot;green&quot;, &quot;markerColor&quot;: &quot;white&quot;, &quot;prefix&quot;: &quot;glyphicon&quot;}\n",
       "            );\n",
       "            marker_93be27449ee0c215d2716a5c9974817d.setIcon(icon_b03ac684ff7444b8fcdcedb2274d8cfc);\n",
       "        \n",
       "    \n",
       "            marker_cluster_b33ca8ec96422cb35b7d9cef52fae6bc.addTo(map_d6c7214afb0496da49d9b6467fca1e9d);\n",
       "        \n",
       "&lt;/script&gt;\n",
       "&lt;/html&gt;\" style=\"position:absolute;width:100%;height:100%;left:0;top:0;border:none !important;\" allowfullscreen webkitallowfullscreen mozallowfullscreen></iframe></div></div>"
      ],
      "text/plain": [
       "<folium.folium.Map at 0x30c726490>"
      ]
     },
     "execution_count": 73,
     "metadata": {},
     "output_type": "execute_result"
    }
   ],
   "source": [
    "# Create a marker cluster object\n",
    "marker_cluster = MarkerCluster()\n",
    "# Add marker_cluster to current Folium map object\n",
    "site_map.add_child(marker_cluster)\n",
    "\n",
    "for index, row in falcon9_geo.iterrows():\n",
    "    if row['Class'] == 1:\n",
    "        marker_color = 'green'\n",
    "    else:\n",
    "        marker_color = 'red'\n",
    "    marker = folium.Marker(\n",
    "        location = [row['Latitude'], row['Longitude']],\n",
    "        icon = folium.Icon(\n",
    "            color = 'white',\n",
    "            icon_color = marker_color\n",
    "        )\n",
    "    )\n",
    "    marker_cluster.add_child(marker)\n",
    "\n",
    "site_map"
   ]
  },
  {
   "cell_type": "markdown",
   "metadata": {},
   "source": [
    "- *We can see the geographical position of each launch site, as well as the NASA Johnson Space Center.*\n",
    "- *While the VAFB site is located on the West coast (near Los Angeles), the other 2 sites are located in the East coast (Florida).*\n",
    "- *Most of the rockets were launched on the East coast (77 out of 90) and between the 2 sites in the East, CCSFC hosted more launches (55/77)*"
   ]
  }
 ],
 "metadata": {
  "kernelspec": {
   "display_name": "Python 3",
   "language": "python",
   "name": "python3"
  },
  "language_info": {
   "codemirror_mode": {
    "name": "ipython",
    "version": 3
   },
   "file_extension": ".py",
   "mimetype": "text/x-python",
   "name": "python",
   "nbconvert_exporter": "python",
   "pygments_lexer": "ipython3",
   "version": "3.11.5"
  }
 },
 "nbformat": 4,
 "nbformat_minor": 4
}
